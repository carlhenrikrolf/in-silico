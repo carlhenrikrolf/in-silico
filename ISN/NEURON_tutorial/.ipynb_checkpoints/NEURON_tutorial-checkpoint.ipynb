{
 "cells": [
  {
   "cell_type": "markdown",
   "metadata": {},
   "source": [
    "# NEURON tutorial\n",
    "\n",
    "The NEURON simulation environment is widely used in classrooms and laboratories to build models of neurons and network of neurons.\n",
    "See: https://www.neuron.yale.edu/neuron/"
   ]
  },
  {
   "cell_type": "markdown",
   "metadata": {},
   "source": [
    "## The NEURON software\n",
    "\n",
    "NEURON was original developed with a scripting language called \"hoc\". It is still widely used and only recently it is being replaced with a Python interface [(Hines et al., 2009)](http://journal.frontiersin.org/article/10.3389/neuro.11.001.2009/abstract). All NEURON routines are written in either C/C++ or hoc.\n",
    "NEURON features also a Graphical User Interface (GUI), equipped with builders for cells and networks, channels and electrical circuits. Feel free to explore the NEURON GUI, but here we prefer writing some lines of Python code.\n",
    "___\n",
    "In this tutorial we will see how to use a small number of NEURON functions, while you can find further information on NEURON modeling concepts and programming-related terms in the [programmer's reference](http://www.neuron.yale.edu/neuron/static/new_doc/index.html).\n",
    "____"
   ]
  },
  {
   "cell_type": "code",
   "execution_count": 1,
   "metadata": {
    "collapsed": false
   },
   "outputs": [],
   "source": [
    "import matplotlib.pyplot as plt\n",
    "%matplotlib inline\n",
    "plt.rcParams['figure.figsize'] = (10.0, 8.0)\n",
    "\n",
    "# Import NEURON as a Python module, together with the hoc language and the gui\n",
    "from neuron import h,gui"
   ]
  },
  {
   "cell_type": "markdown",
   "metadata": {},
   "source": [
    "## Stylized tree representation of a cell\n",
    "In NEURON a cell is represented as a tree of connected **sections**. A section is a portion of cell with homogeneous biophysical properties. \n",
    "In the simplest approximation, a section is a cilinder with some properties: lengh *L* (in ${\\mu}m$), diameter *diam* (in ${\\mu}m$), cytoplasmic resistance *Ra* (in $ohm*cm$), membrane capacity (in ${\\mu}F/cm^2$), channels density.\n",
    "A **segment** (or compartment), *seg*, is the simplest unit of discretization of a section. It is a numerical entity, that defines the spatial discretizion ${\\delta}x = L / nseg$."
   ]
  },
  {
   "cell_type": "code",
   "execution_count": 2,
   "metadata": {
    "collapsed": true
   },
   "outputs": [],
   "source": [
    "# Create a section \n",
    "soma = h.Section()\n",
    "soma.Ra = 1\n",
    "soma.L = 100\n",
    "soma.diam = 10\n",
    "soma.cm = 1"
   ]
  },
  {
   "cell_type": "markdown",
   "metadata": {},
   "source": [
    "## Implementing a current-clamp experiment\n",
    "A stimulation electrode in NEURON is a \"point process\", i.e. an object attached to a precise location along a section. The location is specified as a number from 0 to 1.\n",
    "To set up a current clamp experiment we need to specify its location, *delay* (time from the start of the simulation), *amp* (amplitude of the injected current, in *nA*) and *dur* (duration of stimulus in *ms*)."
   ]
  },
  {
   "cell_type": "code",
   "execution_count": 3,
   "metadata": {
    "collapsed": false
   },
   "outputs": [],
   "source": [
    "# Inject a current step into the soma\n",
    "stim = h.IClamp(soma(0.5))         # Place a stimulation electrode in the middle of the soma\n",
    "stim.delay = 1 #delay time: time from the start of the stimulation (in general ms)\n",
    "stim.amp = 1\n",
    "stim.dur = 3"
   ]
  },
  {
   "cell_type": "markdown",
   "metadata": {},
   "source": [
    "## Recording the results\n",
    "The hoc language is equipped with \"Vectors\" (similar to Python lists) that allow to record many variables specified in our models. For instance, it is possible to record arrays of time and voltage at a specific location."
   ]
  },
  {
   "cell_type": "code",
   "execution_count": 4,
   "metadata": {
    "collapsed": false
   },
   "outputs": [
    {
     "data": {
      "text/plain": [
       "1.0"
      ]
     },
     "execution_count": 4,
     "metadata": {},
     "output_type": "execute_result"
    }
   ],
   "source": [
    "# Initialize NEURON vectors to record time, voltage and current\n",
    "rec_t = h.Vector()\n",
    "rec_t.record(h._ref_t)\n",
    "\n",
    "rec_v = h.Vector()\n",
    "rec_v.record(soma(0.5)._ref_v)\n",
    "\n",
    "rec_i = h.Vector()\n",
    "rec_i.record(stim._ref_i)"
   ]
  },
  {
   "cell_type": "markdown",
   "metadata": {},
   "source": [
    "## Running a simulation\n",
    "Before running a simulation we have to set up some parameters: the simulation time *tstop* (in *ms*), the initial membrane voltage *v_init* in (*mV*) and the time discretization *steps_per_ms* (or *dt* = 1/steps_per_ms)."
   ]
  },
  {
   "cell_type": "code",
   "execution_count": 5,
   "metadata": {
    "collapsed": false
   },
   "outputs": [
    {
     "data": {
      "text/plain": [
       "0.0"
      ]
     },
     "execution_count": 5,
     "metadata": {},
     "output_type": "execute_result"
    }
   ],
   "source": [
    "# Initialize and run a simulation\n",
    "h.v_init = -65\n",
    "h.finitialize()\n",
    "h.tstop = 5\n",
    "h.steps_per_ms = 40\n",
    "\n",
    "h.init() \n",
    "h.run() #run the stimulation"
   ]
  },
  {
   "cell_type": "code",
   "execution_count": 6,
   "metadata": {
    "collapsed": false,
    "scrolled": false
   },
   "outputs": [
    {
     "data": {
      "text/plain": [
       "<matplotlib.legend.Legend at 0x7f3cc1e52450>"
      ]
     },
     "execution_count": 6,
     "metadata": {},
     "output_type": "execute_result"
    },
    {
     "data": {
      "image/png": "[encoded data removed]",
      "text/plain": [
       "<matplotlib.figure.Figure at 0x7f3cec0f5390>"
      ]
     },
     "metadata": {},
     "output_type": "display_data"
    }
   ],
   "source": [
    "# Plot the stimulation protocol and the voltage response\n",
    "fig, ax1 = plt.subplots()\n",
    "plt.plot(rec_t,rec_v, 'b', label = \"Voltage response\")\n",
    "ax2 = ax1.twinx()\n",
    "plt.plot(rec_t,rec_i, 'g', label = \"Injected current\")\n",
    "\n",
    "ax2.set_ylim([-1,10])\n",
    "ax1.set_xlabel(\"Time (ms)\")\n",
    "ax1.set_ylabel(\"Voltage (mV)\")\n",
    "ax2.set_ylabel(\"Current (nA)\")\n",
    "ax1.legend(loc='upper left')\n",
    "ax2.legend(loc='upper right')"
   ]
  },
  {
   "cell_type": "markdown",
   "metadata": {},
   "source": [
    "## Spatial discretization\n",
    "In the previous simulation we recorded the voltage response at the middle of the soma. What would have happen if we wanted to record it just before the 1 end of the section? Try it.\n",
    "Is it the result different?\n",
    "\n",
    "\n",
    "To have a more refined spatial discretization we can increase *nseg*. To make sure that the electrodes have the best accuracy, it is always advisable to have an odd number of segments.\n",
    "However, we always have to record from the center of each compartment, then \"transpose\" the recordings to visualize the results at other locations."
   ]
  },
  {
   "cell_type": "code",
   "execution_count": 7,
   "metadata": {
    "collapsed": true
   },
   "outputs": [],
   "source": [
    "soma.nseg = 5\n",
    "\n",
    "def transposeRecording(reclist, nloc, tstop):\n",
    "    retlist = []\n",
    "    \n",
    "    # each element of reclist is a neuron.h.Vector of recordings for one out of nloc spatial locations\n",
    "    # (usually compartment centers) over time\n",
    "    for i in range(0,int(tstop/h.dt)+1):\n",
    "        retlist.append(h.Vector(nloc,0)) \n",
    "        for j in range(0,nloc):\n",
    "            retlist[i].x[j] = reclist[j].x[i]\n",
    "    return retlist"
   ]
  },
  {
   "cell_type": "code",
   "execution_count": 8,
   "metadata": {
    "collapsed": false,
    "scrolled": false
   },
   "outputs": [
    {
     "data": {
      "text/plain": [
       "<matplotlib.text.Text at 0x7f3cc1e0b510>"
      ]
     },
     "execution_count": 8,
     "metadata": {},
     "output_type": "execute_result"
    },
    {
     "data": {
      "image/png": "[encoded data removed]",
      "text/plain": [
       "<matplotlib.figure.Figure at 0x7f3cc1c4bb50>"
      ]
     },
     "metadata": {},
     "output_type": "display_data"
    }
   ],
   "source": [
    "reclist = h.List()\n",
    "for i in range(0,soma.nseg):\n",
    "    tmpRecVec = h.Vector()\n",
    "    tmpRecVec.record(soma((0.5 + i*1.0)/soma.nseg)._ref_v)\n",
    "    reclist.append(tmpRecVec)\n",
    "h.init()\n",
    "h.run(5)\n",
    "xlocations = h.Vector()\n",
    "for i in range(0,soma.nseg):\n",
    "    xlocations.append(soma.L*(0.5 + i*1.0)/(soma.nseg))\n",
    "\n",
    "spatialrec = transposeRecording(reclist, soma.nseg, 5)\n",
    "fig = plt.figure()\n",
    "plt.plot(xlocations, spatialrec[41]) # 1.025/0.025 = 41\n",
    "plt.ylabel(\"Voltage (mV)\")\n",
    "plt.xlabel(\"Spatial location (um)\")\n",
    "plt.title(\"Spatial distribution at t = 1.025 ms\")\n"
   ]
  },
  {
   "cell_type": "markdown",
   "metadata": {},
   "source": [
    "The voltage variation in space it not so large.\n",
    "____\n",
    "__Exercise 1.__\n",
    "Which parameters influence the voltage variation in space? Try to modify some values in order to:\n",
    "0. increase the number of compartments;  \n",
    "1. plot the distribution at t = 2.975 ms (remember that we record the time every 0.025 ms); \n",
    "2. displace the stimulation point;\n",
    "3. change the biophysical parameters (length and diameter). Can you find by trial and error a combination of parameter such that the difference between *soma._ref_v(0.5)* and *soma._ref_v(0)* is roughly equal to 0.5?\n",
    "___"
   ]
  },
  {
   "cell_type": "markdown",
   "metadata": {},
   "source": [
    "## Biological modeling: mechanisms\n",
    "Mechanisms represent ion channels, buffers, synapses dynamics in NEURON. They are not point processes but \"distributed mechanisms\" and they are present on the entire surface of a section. Mechanisms parameters can change within compartments.\n",
    "NEURON has some built-in mechanisms, for example a passive leak current *pas* and sodium and potassium currents to generate action potentials *hh* (from the squid axon, measured by Hodgkin and Huxley!)\n",
    "\n",
    "__Restart the kernel before continuing__"
   ]
  },
  {
   "cell_type": "code",
   "execution_count": 9,
   "metadata": {
    "collapsed": false
   },
   "outputs": [],
   "source": [
    "import matplotlib.pyplot as plt\n",
    "%matplotlib inline\n",
    "plt.rcParams['figure.figsize'] = (10.0, 8.0)\n",
    "\n",
    "# Import NEURON as a Python module, together with the hoc language and the gui\n",
    "from neuron import h,gui\n",
    "\n",
    "# Insert passive and active mechanisms\n",
    "hhsoma = h.Section()\n",
    "hhsoma.L = 20\n",
    "hhsoma.diam = 20\n",
    "hhsoma.nseg = 1\n",
    "\n",
    "hhsoma.insert('pas') #insertion of particular mechanisms\n",
    "for seg in hhsoma:\n",
    "    seg.pas.g = 0.003 # Conductance of the leak channels (in S/cm2)\n",
    "    seg.pas.e = -60   # Leak reversal potential, it influences the steady state membrane potential\n",
    "    \n",
    "hhsoma.insert('hh')\n",
    "for seg in hhsoma:\n",
    "    seg.hh.gkbar = 0.008  # Maximal conductance of the potassium channels\n",
    "    seg.hh.gnabar = 0.12  # Maximal conductance of the sodium channels\n",
    "    \n",
    "#I_leak = g_leak (V-E_leak)"
   ]
  },
  {
   "cell_type": "code",
   "execution_count": 10,
   "metadata": {
    "collapsed": false
   },
   "outputs": [
    {
     "data": {
      "text/plain": [
       "[<matplotlib.lines.Line2D at 0x7f3cc1d0c510>]"
      ]
     },
     "execution_count": 10,
     "metadata": {},
     "output_type": "execute_result"
    },
    {
     "data": {
      "image/png": "[encoded data removed]",
      "text/plain": [
       "<matplotlib.figure.Figure at 0x7f3cec0f5250>"
      ]
     },
     "metadata": {},
     "output_type": "display_data"
    }
   ],
   "source": [
    "stim = h.IClamp(hhsoma(0.5))\n",
    "stim.delay = 1\n",
    "stim.dur = 1\n",
    "stim.amp = 1\n",
    "\n",
    "time = h.Vector()\n",
    "voltage = h.Vector()\n",
    "time.record(h._ref_t)\n",
    "voltage.record(hhsoma(0.5)._ref_v)\n",
    "\n",
    "h.tstop = 25\n",
    "h.finitialize()\n",
    "h.init()\n",
    "h.run()\n",
    "\n",
    "plt.plot(time,voltage, 'k')\n"
   ]
  },
  {
   "cell_type": "markdown",
   "metadata": {
    "collapsed": true
   },
   "source": [
    "____\n",
    "__Exercise 2.__ Which parameters influence the shape of the action potential? Modify some parameters in order to:\n",
    "0. decrease the amplitude of the action potential. How can you simulate an experiment in which 95 % of sodium channels have been blocked with TTX?\n",
    "1. reach a steady state voltage of -70 mV;\n",
    "3. reach -75 mV during the AHP (after-hyperpolarization that follows the action potential);\n",
    "4. increase the speed of the action potential; Hint: look up in the [programmer's reference](http://www.neuron.yale.edu/neuron/static/new_doc/index.html) how you can modify the temperature of a simulation. Remember that we are using Python and how to access hoc variables through Python.\n",
    "___"
   ]
  },
  {
   "cell_type": "markdown",
   "metadata": {},
   "source": [
    "# Detailed morphology\n",
    "Neurons are represented topologically by the tree structure. Each sections has a 0 and 1 end, which can represent branching points. If we consider a section (current section), a section connected to its 0 end is the parent sections of the current section, while children sections are connected to the 1 end. A section without a parent is the \"root\" (usually a somatic section).\n",
    "\n",
    "__Restart the kernel before continuing__"
   ]
  },
  {
   "cell_type": "code",
   "execution_count": 11,
   "metadata": {
    "collapsed": false
   },
   "outputs": [
    {
     "name": "stdout",
     "output_type": "stream",
     "text": [
      "1.0\n"
     ]
    }
   ],
   "source": [
    "import matplotlib.pyplot as plt\n",
    "%matplotlib inline\n",
    "plt.rcParams['figure.figsize'] = (10.0, 8.0)\n",
    "\n",
    "# Import NEURON as a Python module, together with the hoc language and the gui\n",
    "from neuron import h,gui\n",
    "\n",
    "# create some sections\n",
    "for sec in h.allsec():\n",
    "    del sec\n",
    "    \n",
    "soma = h.Section(name='soma') # NEURON sections can have a name\n",
    "dendrites = []\n",
    "dendrites.append(h.Section(name='dend0'))\n",
    "\n",
    "# connect a section to its parent\n",
    "dendrites[0].connect(soma)\n",
    "\n",
    "# specify which end to connect to\n",
    "dendrites.append(h.Section(name='dend1'))\n",
    "dendrites[1].connect(soma,1)\n",
    "\n",
    "# visualization\n",
    "print h.topology() # Read the output in the terminal"
   ]
  },
  {
   "cell_type": "markdown",
   "metadata": {
    "collapsed": true
   },
   "source": [
    "____\n",
    "__Exercise 3.__ Create a simple dendritic tree.\n",
    "\n",
    "0. Modify the code above to create a soma and two dendrites, each connected to a different end of the soma.\n",
    "1. Make one of the dendrites longer by adding ten more sections. \n",
    "____"
   ]
  },
  {
   "cell_type": "markdown",
   "metadata": {
    "collapsed": true
   },
   "source": [
    "## Morphologically-detailed models\n",
    "To build a morphologically-detailed neuron model we need a reconstruction of 3D morphology, some details about its passive properties and information about the ion channels (active properties).\n",
    "\n",
    "NEURON can load Neurolucida (and others) morphology formats through the *hoc* routines in the file \"import3d.hoc\".\n",
    "Model of the ion channels are written in another scripting language, called *NMODL* and stored in separate .mod files.\n",
    "\n",
    "In the following part of the tutorial we will build a neuron inspired from real thalamo-cortical cells. We will load a morphology of a real thalamo-cortical neuron (downloaded from http://neuromorpho.org/) and some of its ion channels (have a look to the .mod files). They are available on [NEURON models database](https://senselab.med.yale.edu/modeldb/)."
   ]
  },
  {
   "cell_type": "code",
   "execution_count": 12,
   "metadata": {
    "collapsed": false
   },
   "outputs": [],
   "source": [
    "import matplotlib.pyplot as plt\n",
    "%matplotlib inline\n",
    "plt.rcParams['figure.figsize'] = (10.0, 8.0)\n",
    "\n",
    "# Import NEURON as a Python module, together with the hoc language and the gui\n",
    "from neuron import h,gui\n",
    "\n",
    "class TC_neuron:\n",
    "    \"\"\"\n",
    "    Model inspired from a thalamo-cortical neuron. \n",
    "    \"\"\"\n",
    "    def __init__(self):\n",
    "        self.build_morphology()\n",
    "        self.define_biophysics()\n",
    "        \n",
    "    def build_morphology(self):\n",
    "        \"\"\"\n",
    "        Loads a 3D morphology (without axon) of the neuron\n",
    "        \"\"\"\n",
    "        # Load hoc routines to import 3D morphologies\n",
    "        h.load_file(\"import3d.hoc\")\n",
    "        nl = h.Import3d_SWC_read() # We have a .swc morphology file\n",
    "\n",
    "        # Read the file and creates automatically section.connect(parent) statements\n",
    "        nl.input(\"destexhe_morpho.swc\") \n",
    "\n",
    "        # instantiate morphology for simulation\n",
    "        self.importedcell = h.Import3d_GUI(nl,0)\n",
    "        self.importedcell.instantiate(None) # Executes the connect statements and loads the cell into h scope\n",
    "\n",
    "        # Create python lists from the morphology\n",
    "        self.somatic = []\n",
    "        self.dendritic = []\n",
    "        self.all = []\n",
    "        for sec in h.allsec():\n",
    "            if 'soma' in sec.name():\n",
    "                self.somatic.append(sec)\n",
    "            if 'dend' in sec.name():\n",
    "                self.dendritic.append(sec)\n",
    "                \n",
    "    def define_biophysics(self):\n",
    "        \"\"\"\n",
    "        Distributes passive mechanisms and three different types\n",
    "        of ion channels on the soma and dendrites\n",
    "        \"\"\"\n",
    "        \n",
    "        # Define passive properties\n",
    "        for sec in self.all:\n",
    "            sec.insert(\"pas\")\n",
    "            sec.g_pas = 0.003\n",
    "            sec.e_pas = -65\n",
    "            sec.ra = 173\n",
    "            sec.cm = 1\n",
    "            sec.ek = -90\n",
    "            sec.ena = 55\n",
    "            \n",
    "        for sec in self.somatic:\n",
    "            sec.insert('TC_iT')\n",
    "            sec.pcabar_TC_iT = 5e-5\n",
    "            sec.insert('TC_HH')\n",
    "            sec.gk_max_TC_HH = 0.1\n",
    "            sec.gna_max_TC_HH = 0.04\n",
    "            sec.insert('TC_ih')\n",
    "            sec.gh_max_TC_ih = 0.8e-5\n",
    "            sec.insert('TC_iA')\n",
    "            sec.gk_max_TC_iA = 0.01\n",
    "   \n",
    "        for sec in self.dendritic:\n",
    "            sec.insert('TC_iT')\n",
    "            sec.pcabar_TC_iT = 1.1e-5   \n",
    "            sec.insert('TC_ih')\n",
    "            sec.gh_max_TC_ih = 0.5e-5"
   ]
  },
  {
   "cell_type": "markdown",
   "metadata": {},
   "source": [
    "___\n",
    "__Exercise 4.__ Simulate a rebound response in a thalamo-cortical neuron. A rebound spike response can be elicited in thalamo-cortical and many other types of neurons in patch-clamp experiments with a hyperpolarizing current step.\n",
    "\n",
    "\n",
    "For this exercise you will have to complete the code below. \n",
    "Before creating the neuron open a new terminal tab from the same working directory of the notebook and type the command \"nrnivmodl\". This will compile the mechanisms (and create a new folder x86_64/special).\n",
    "\n",
    "You will also have to restart the kernel in order to integrate the new compiled mechanisms in the class definition.\n",
    "___"
   ]
  },
  {
   "cell_type": "code",
   "execution_count": 13,
   "metadata": {
    "collapsed": false
   },
   "outputs": [],
   "source": [
    "# Instantiate a cell from the class TC_neuron\n",
    "cell =  TC_neuron()"
   ]
  },
  {
   "cell_type": "markdown",
   "metadata": {},
   "source": [
    "You should be able to visualize the TC neuron morphology with the GUI, under \"Graph\" > \"Shape Plot\""
   ]
  },
  {
   "cell_type": "code",
   "execution_count": 14,
   "metadata": {
    "collapsed": false
   },
   "outputs": [
    {
     "ename": "AttributeError",
     "evalue": "'Legend' object has no attribute 'record'",
     "output_type": "error",
     "traceback": [
      "\u001b[0;31m---------------------------------------------------------------------------\u001b[0m",
      "\u001b[0;31mAttributeError\u001b[0m                            Traceback (most recent call last)",
      "\u001b[0;32m<ipython-input-14-ca5fc9ba32dc>\u001b[0m in \u001b[0;36m<module>\u001b[0;34m()\u001b[0m\n\u001b[1;32m      3\u001b[0m \u001b[0mrecordings\u001b[0m\u001b[0;34m[\u001b[0m\u001b[0;34m'v_soma'\u001b[0m\u001b[0;34m]\u001b[0m \u001b[0;34m=\u001b[0m \u001b[0m___\u001b[0m \u001b[0;31m# Initialize a neuron vector\u001b[0m\u001b[0;34m\u001b[0m\u001b[0m\n\u001b[1;32m      4\u001b[0m \u001b[0;34m\u001b[0m\u001b[0m\n\u001b[0;32m----> 5\u001b[0;31m \u001b[0mrecordings\u001b[0m\u001b[0;34m[\u001b[0m\u001b[0;34m'time'\u001b[0m\u001b[0;34m]\u001b[0m\u001b[0;34m.\u001b[0m\u001b[0mrecord\u001b[0m\u001b[0;34m(\u001b[0m\u001b[0;34m)\u001b[0m \u001b[0;31m# NEURON reference to time\u001b[0m\u001b[0;34m\u001b[0m\u001b[0m\n\u001b[0m\u001b[1;32m      6\u001b[0m \u001b[0mrecordings\u001b[0m\u001b[0;34m[\u001b[0m\u001b[0;34m'v_soma'\u001b[0m\u001b[0;34m]\u001b[0m\u001b[0;34m.\u001b[0m\u001b[0mrecord\u001b[0m\u001b[0;34m(\u001b[0m\u001b[0mcell\u001b[0m\u001b[0;34m.\u001b[0m\u001b[0msomatic\u001b[0m\u001b[0;34m[\u001b[0m\u001b[0;36m0\u001b[0m\u001b[0;34m]\u001b[0m\u001b[0;34m(\u001b[0m\u001b[0;36m0.5\u001b[0m\u001b[0;34m)\u001b[0m\u001b[0;34m.\u001b[0m\u001b[0m_ref_v\u001b[0m\u001b[0;34m)\u001b[0m\u001b[0;34m\u001b[0m\u001b[0m\n\u001b[1;32m      7\u001b[0m \u001b[0;34m\u001b[0m\u001b[0m\n",
      "\u001b[0;31mAttributeError\u001b[0m: 'Legend' object has no attribute 'record'"
     ]
    }
   ],
   "source": [
    "recordings = {}\n",
    "recordings['time'] =  ___ # Initialize a neuron vector \n",
    "recordings['v_soma'] = ___ # Initialize a neuron vector\n",
    "\n",
    "recordings['time'].record() # NEURON reference to time\n",
    "recordings['v_soma'].record(cell.somatic[0](0.5)._ref_v)\n",
    "\n",
    "iclamp = h.IClamp(0.5, cell.somatic[0])\n",
    "# Set up a step current with amplitude -0.1 nA, duration of 800 ms, starting after 200 ms from \n",
    "# the beginning of the simulation.\n",
    "\n",
    "\n",
    "# Set up the simulation of 1500 ms. See examples above. \n",
    "# It's usual to set up the initial voltage close to steady state membrane potential (do you remember which is\n",
    "# the parameter that influence it?). \n",
    "# Use a temperature of 34 celsius.\n",
    "# Don't forget to inizialize and run the simulation\n",
    "\n",
    "\n",
    "plt.plot(___) # Plot the results of the current-clamps experiment\n"
   ]
  },
  {
   "cell_type": "markdown",
   "metadata": {
    "collapsed": true
   },
   "source": [
    "___\n",
    "### Futher interesting resources about NEURON\n",
    "\n",
    "__The NEURON forum__: \n",
    "http://www.neuron.yale.edu/phpBB/\n",
    "\n",
    "__NEURON programmer's reference and documentation__: \n",
    "http://www.neuron.yale.edu/neuron/static/new_doc/index.html\n",
    "\n",
    "__NEURON web page and installation instructions__:\n",
    "http://www.neuron.yale.edu/neuron/\n",
    "\n",
    "__ModelDB: database of existing NEURON models__:\n",
    "https://senselab.med.yale.edu/modeldb/\n",
    "\n",
    "__The NEURON book and other readings__:\n",
    "\n",
    "Nicholas T. Carnevale and Michael L. Hines, \"The NEURON book\". Cambridge University Press, 2006\n",
    "\n",
    "M.L. Hines and N.T. Carnevale. \"Neuron simulation environment\". Encyclopedia of computational neuroscience, Springer, 2014\n"
   ]
  }
 ],
 "metadata": {
  "kernelspec": {
   "display_name": "Python 2",
   "language": "python",
   "name": "python2"
  },
  "language_info": {
   "codemirror_mode": {
    "name": "ipython",
    "version": 2
   },
   "file_extension": ".py",
   "mimetype": "text/x-python",
   "name": "python",
   "nbconvert_exporter": "python",
   "pygments_lexer": "ipython2",
   "version": "2.7.6"
  }
 },
 "nbformat": 4,
 "nbformat_minor": 0
}
