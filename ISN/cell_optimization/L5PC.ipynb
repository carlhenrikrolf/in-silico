{
 "cells": [
  {
   "cell_type": "markdown",
   "metadata": {},
   "source": [
    "# Optimisation of a Neocortical Layer 5 Pyramidal Cell"
   ]
  },
  {
   "cell_type": "markdown",
   "metadata": {},
   "source": [
    "This notebook shows you how to optimise the maximal conductance of Neocortical Layer 5 Pyramidal Cell as used in Markram et al. 2015.\n",
    "\n",
    "Author of this script: Werner Van Geit @ Blue Brain Project\n",
    "\n",
    "Choice of parameters, protocols and other settings was done by Etay Hay @ HUJI\n",
    "\n",
    "What's described here is a more advanced use of BluePyOpt. We suggest to first go through the introductary example here: https://github.com/BlueBrain/BluePyOpt/blob/master/examples/simplecell/simplecell.ipynb\n",
    "\n",
    "**If you use the methods in this notebook, we ask you to cite the following publications when publishing your research:**\n",
    "\n",
    "Van Geit, W., M. Gevaert, G. Chindemi, C. Rössert, J.-D. Courcol, E. Muller, F. Schürmann, I. Segev, and H. Markram (2016, March). BluePyOpt: Leveraging open source software and cloud infrastructure to optimise model parameters in neuroscience. ArXiv e-prints.\n",
    "http://arxiv.org/abs/1603.00500\n",
    "\n",
    "Markram, H., E. Muller, S. Ramaswamy, M. W. Reimann, M. Abdellah, C. A. Sanchez, A. Ailamaki, L. Alonso-Nanclares, N. Antille, S. Arsever, et al. (2015). Reconstruction and simulation of neocortical microcircuitry. Cell 163(2), 456–492.\n",
    "http://www.cell.com/abstract/S0092-8674%2815%2901191-5\n",
    "\n",
    "Some of the modules loaded in this script are located in the L5PC example folder: https://github.com/BlueBrain/BluePyOpt/tree/master/examples/l5pc "
   ]
  },
  {
   "cell_type": "markdown",
   "metadata": {},
   "source": [
    "We first load the bluepyopt python module, the ephys submodule and some helper functionality"
   ]
  },
  {
   "cell_type": "code",
   "execution_count": 1,
   "metadata": {
    "collapsed": false
   },
   "outputs": [
    {
     "name": "stdout",
     "output_type": "stream",
     "text": [
      "/home/hbpschool2016/Documents/cell_optimization\n",
      "mechanisms/IhDA.mod mechanisms/ampasyn.mod mechanisms/cabalan.mod mechanisms/cachan.mod mechanisms/capump.mod mechanisms/dop.mod mechanisms/hh3.mod mechanisms/kca.mod mechanisms/leak.mod mechanisms/nabalan.mod mechanisms/nmdasyn.mod mechanisms/pump.mod\n",
      "IhDA.mod ampasyn.mod cabalan.mod cachan.mod capump.mod dop.mod hh3.mod kca.mod leak.mod nabalan.mod nmdasyn.mod pump.mod\n",
      "\"/home/hbpschool2016/local/nrn/share/nrn/libtool\"  --mode=compile gcc -DHAVE_CONFIG_H  -I. -I.. -I\"/home/hbpschool2016/local/nrn/include/nrn\" -I\"/home/hbpschool2016/local/nrn/x86_64/lib\"      -g -O2 -c -o mod_func.lo mod_func.c\n",
      "libtool: compile:  gcc -DHAVE_CONFIG_H -I. -I.. -I/home/hbpschool2016/local/nrn/include/nrn -I/home/hbpschool2016/local/nrn/x86_64/lib -g -O2 -c mod_func.c  -fPIC -DPIC -o .libs/mod_func.o\n",
      "\"/home/hbpschool2016/local/nrn/share/nrn/libtool\"  --mode=link gcc -module  -g -O2    -o libnrnmech.la -rpath \"/home/hbpschool2016/local/nrn/x86_64/lib\"  IhDA.lo ampasyn.lo cabalan.lo cachan.lo capump.lo dop.lo hh3.lo kca.lo leak.lo nabalan.lo nmdasyn.lo pump.lo mod_func.lo  -L\"/home/hbpschool2016/local/nrn/x86_64/lib\" -lnrnoc -loc -lmemacs -lnrnmpi -lscopmath -lsparse13 -lreadline -lncurses -L\"/home/hbpschool2016/local/nrn/x86_64/lib\" \"/home/hbpschool2016/local/nrn/x86_64/lib/libnrniv.la\" -livoc -lneuron_gnu -lmeschach -lsundials       -lm -ldl\n",
      "libtool: link: rm -fr  .libs/libnrnmech.la .libs/libnrnmech.lai .libs/libnrnmech.so .libs/libnrnmech.so.0 .libs/libnrnmech.so.0.0.0\n",
      "libtool: link: gcc -shared  -fPIC -DPIC  .libs/IhDA.o .libs/ampasyn.o .libs/cabalan.o .libs/cachan.o .libs/capump.o .libs/dop.o .libs/hh3.o .libs/kca.o .libs/leak.o .libs/nabalan.o .libs/nmdasyn.o .libs/pump.o .libs/mod_func.o   -Wl,-rpath -Wl,/home/hbpschool2016/local/nrn/x86_64/lib -Wl,-rpath -Wl,/home/hbpschool2016/local/nrn/x86_64/lib -L/home/hbpschool2016/local/nrn/x86_64/lib /home/hbpschool2016/local/nrn/x86_64/lib/libnrnoc.so /home/hbpschool2016/local/nrn/x86_64/lib/liboc.so /home/hbpschool2016/local/nrn/x86_64/lib/libmemacs.so /home/hbpschool2016/local/nrn/x86_64/lib/libnrnmpi.so /home/hbpschool2016/local/nrn/x86_64/lib/libscopmath.so /home/hbpschool2016/local/nrn/x86_64/lib/libsparse13.so -lreadline -lncurses /home/hbpschool2016/local/nrn/x86_64/lib/libnrniv.so /home/hbpschool2016/local/nrn/x86_64/lib/libivoc.so /home/hbpschool2016/local/nrn/x86_64/lib/libneuron_gnu.so /home/hbpschool2016/local/nrn/x86_64/lib/libmeschach.so /home/hbpschool2016/local/nrn/x86_64/lib/libsundials.so -lm -ldl  -O2   -pthread -Wl,-soname -Wl,libnrnmech.so.0 -o .libs/libnrnmech.so.0.0.0\n",
      "libtool: link: (cd \".libs\" && rm -f \"libnrnmech.so.0\" && ln -s \"libnrnmech.so.0.0.0\" \"libnrnmech.so.0\")\n",
      "libtool: link: (cd \".libs\" && rm -f \"libnrnmech.so\" && ln -s \"libnrnmech.so.0.0.0\" \"libnrnmech.so\")\n",
      "libtool: link: ( cd \".libs\" && rm -f \"libnrnmech.la\" && ln -s \"../libnrnmech.la\" \"libnrnmech.la\" )\n",
      "Successfully created x86_64/special\n",
      "/home/hbpschool2016/local/pythonenv/local/lib/python2.7/site-packages/pip/_vendor/requests/packages/urllib3/util/ssl_.py:318: SNIMissingWarning: An HTTPS request has been made, but the SNI (Subject Name Indication) extension to TLS is not available on this platform. This may cause the server to present an incorrect TLS certificate, which can cause validation failures. You can upgrade to a newer version of Python to solve this. For more information, see https://urllib3.readthedocs.io/en/latest/security.html#snimissingwarning.\n",
      "  SNIMissingWarning\n",
      "/home/hbpschool2016/local/pythonenv/local/lib/python2.7/site-packages/pip/_vendor/requests/packages/urllib3/util/ssl_.py:122: InsecurePlatformWarning: A true SSLContext object is not available. This prevents urllib3 from configuring SSL appropriately and may cause certain SSL connections to fail. You can upgrade to a newer version of Python to solve this. For more information, see https://urllib3.readthedocs.io/en/latest/security.html#insecureplatformwarning.\n",
      "  InsecurePlatformWarning\n",
      "Requirement already up-to-date: neurom in /home/hbpschool2016/local/pythonenv/lib/python2.7/site-packages\n",
      "Requirement already up-to-date: numpy>=1.8.0 in /home/hbpschool2016/local/pythonenv/lib/python2.7/site-packages (from neurom)\n",
      "Requirement already up-to-date: scipy>=0.13.3 in /home/hbpschool2016/local/pythonenv/lib/python2.7/site-packages (from neurom)\n",
      "Requirement already up-to-date: enum34>=1.0.4 in /home/hbpschool2016/local/pythonenv/lib/python2.7/site-packages (from neurom)\n",
      "Requirement already up-to-date: pyyaml>=3.10 in /home/hbpschool2016/local/pythonenv/lib/python2.7/site-packages (from neurom)\n",
      "Requirement already up-to-date: tqdm>=4.8.4 in /home/hbpschool2016/local/pythonenv/lib/python2.7/site-packages (from neurom)\n",
      "Requirement already up-to-date: matplotlib>=1.3.1 in /home/hbpschool2016/local/pythonenv/lib/python2.7/site-packages (from neurom)\n",
      "Requirement already up-to-date: h5py>=2.2.1 in /home/hbpschool2016/local/pythonenv/lib/python2.7/site-packages (from neurom)\n",
      "Requirement already up-to-date: future>=0.16.0 in /home/hbpschool2016/local/pythonenv/lib/python2.7/site-packages (from neurom)\n",
      "Requirement already up-to-date: pylru>=1.0 in /home/hbpschool2016/local/pythonenv/lib/python2.7/site-packages (from neurom)\n",
      "Requirement already up-to-date: subprocess32 in /home/hbpschool2016/local/pythonenv/lib/python2.7/site-packages (from matplotlib>=1.3.1->neurom)\n",
      "Requirement already up-to-date: cycler>=0.10 in /home/hbpschool2016/local/pythonenv/lib/python2.7/site-packages (from matplotlib>=1.3.1->neurom)\n",
      "Requirement already up-to-date: python-dateutil in /home/hbpschool2016/local/pythonenv/lib/python2.7/site-packages (from matplotlib>=1.3.1->neurom)\n",
      "Requirement already up-to-date: functools32 in /home/hbpschool2016/local/pythonenv/lib/python2.7/site-packages (from matplotlib>=1.3.1->neurom)\n",
      "Requirement already up-to-date: six>=1.10 in /home/hbpschool2016/local/pythonenv/lib/python2.7/site-packages (from matplotlib>=1.3.1->neurom)\n",
      "Requirement already up-to-date: pytz in /home/hbpschool2016/local/pythonenv/lib/python2.7/site-packages (from matplotlib>=1.3.1->neurom)\n",
      "Requirement already up-to-date: pyparsing!=2.0.0,!=2.0.4,!=2.1.2,!=2.1.6,>=1.5.6 in /home/hbpschool2016/local/pythonenv/lib/python2.7/site-packages (from matplotlib>=1.3.1->neurom)\n"
     ]
    }
   ],
   "source": [
    "%load_ext autoreload\n",
    "%autoreload\n",
    "\n",
    "from __future__ import print_function\n",
    "\n",
    "# directory with all the neuron models (*.mod)\n",
    "# command to compile the mechanisms as we saw in the previous exercise session\n",
    "!nrnivmodl mechanisms\n",
    "import bluepyopt as bpopt\n",
    "import bluepyopt.ephys as ephys\n",
    "\n",
    "import pprint\n",
    "pp = pprint.PrettyPrinter(indent=2)\n",
    "\n",
    "%matplotlib notebook\n",
    "import matplotlib.pyplot as plt\n",
    "\n",
    "# install & upgrade neurom\n",
    "!pip install neurom --upgrade"
   ]
  },
  {
   "cell_type": "markdown",
   "metadata": {},
   "source": [
    "Main Directories:\n",
    "    - Morphology: The morphology file is stored here\n",
    "    - Mechanisms: All model files (*.mod) for the cell are stored here\n",
    "    - Config:     Contains the configuration files for the optimisation"
   ]
  },
  {
   "cell_type": "markdown",
   "metadata": {},
   "source": [
    "Enable the code below to enable debug level logging"
   ]
  },
  {
   "cell_type": "markdown",
   "metadata": {},
   "source": [
    "## Model description"
   ]
  },
  {
   "cell_type": "markdown",
   "metadata": {},
   "source": [
    "### Morphology"
   ]
  },
  {
   "cell_type": "markdown",
   "metadata": {},
   "source": [
    "We're using a complex reconstructed morphology of an L5PC cell. Let's visualise this with the BlueBrain NeuroM software:"
   ]
  },
  {
   "cell_type": "code",
   "execution_count": 2,
   "metadata": {
    "collapsed": true
   },
   "outputs": [],
   "source": [
    "# TODO: your group's morphology must be added to the directory morphology\n",
    "morphology_filename = 'morphology/OH141125_A0_idA.ASC'"
   ]
  },
  {
   "cell_type": "code",
   "execution_count": 3,
   "metadata": {
    "collapsed": false
   },
   "outputs": [
    {
     "name": "stderr",
     "output_type": "stream",
     "text": [
      "/home/hbpschool2016/local/pythonenv/local/lib/python2.7/site-packages/neurom/io/neurolucida.py:263: UserWarning: This is an experimental reader. There are no guarantees regarding ability to parse Neurolucida .asc files or correctness of output.\n",
      "  warnings.warn(msg)\n",
      "No handlers could be found for logger \"neurom.io.neurolucida\"\n"
     ]
    },
    {
     "data": {
      "application/javascript": [
       "/* Put everything inside the global mpl namespace */\n",
       "window.mpl = {};\n",
       "\n",
       "\n",
       "mpl.get_websocket_type = function() {\n",
       "    if (typeof(WebSocket) !== 'undefined') {\n",
       "        return WebSocket;\n",
       "    } else if (typeof(MozWebSocket) !== 'undefined') {\n",
       "        return MozWebSocket;\n",
       "    } else {\n",
       "        alert('Your browser does not have WebSocket support.' +\n",
       "              'Please try Chrome, Safari or Firefox ≥ 6. ' +\n",
       "              'Firefox 4 and 5 are also supported but you ' +\n",
       "              'have to enable WebSockets in about:config.');\n",
       "    };\n",
       "}\n",
       "\n",
       "mpl.figure = function(figure_id, websocket, ondownload, parent_element) {\n",
       "    this.id = figure_id;\n",
       "\n",
       "    this.ws = websocket;\n",
       "\n",
       "    this.supports_binary = (this.ws.binaryType != undefined);\n",
       "\n",
       "    if (!this.supports_binary) {\n",
       "        var warnings = document.getElementById(\"mpl-warnings\");\n",
       "        if (warnings) {\n",
       "            warnings.style.display = 'block';\n",
       "            warnings.textContent = (\n",
       "                \"This browser does not support binary websocket messages. \" +\n",
       "                    \"Performance may be slow.\");\n",
       "        }\n",
       "    }\n",
       "\n",
       "    this.imageObj = new Image();\n",
       "\n",
       "    this.context = undefined;\n",
       "    this.message = undefined;\n",
       "    this.canvas = undefined;\n",
       "    this.rubberband_canvas = undefined;\n",
       "    this.rubberband_context = undefined;\n",
       "    this.format_dropdown = undefined;\n",
       "\n",
       "    this.image_mode = 'full';\n",
       "\n",
       "    this.root = $('<div/>');\n",
       "    this._root_extra_style(this.root)\n",
       "    this.root.attr('style', 'display: inline-block');\n",
       "\n",
       "    $(parent_element).append(this.root);\n",
       "\n",
       "    this._init_header(this);\n",
       "    this._init_canvas(this);\n",
       "    this._init_toolbar(this);\n",
       "\n",
       "    var fig = this;\n",
       "\n",
       "    this.waiting = false;\n",
       "\n",
       "    this.ws.onopen =  function () {\n",
       "            fig.send_message(\"supports_binary\", {value: fig.supports_binary});\n",
       "            fig.send_message(\"send_image_mode\", {});\n",
       "            if (mpl.ratio != 1) {\n",
       "                fig.send_message(\"set_dpi_ratio\", {'dpi_ratio': mpl.ratio});\n",
       "            }\n",
       "            fig.send_message(\"refresh\", {});\n",
       "        }\n",
       "\n",
       "    this.imageObj.onload = function() {\n",
       "            if (fig.image_mode == 'full') {\n",
       "                // Full images could contain transparency (where diff images\n",
       "                // almost always do), so we need to clear the canvas so that\n",
       "                // there is no ghosting.\n",
       "                fig.context.clearRect(0, 0, fig.canvas.width, fig.canvas.height);\n",
       "            }\n",
       "            fig.context.drawImage(fig.imageObj, 0, 0);\n",
       "        };\n",
       "\n",
       "    this.imageObj.onunload = function() {\n",
       "        this.ws.close();\n",
       "    }\n",
       "\n",
       "    this.ws.onmessage = this._make_on_message_function(this);\n",
       "\n",
       "    this.ondownload = ondownload;\n",
       "}\n",
       "\n",
       "mpl.figure.prototype._init_header = function() {\n",
       "    var titlebar = $(\n",
       "        '<div class=\"ui-dialog-titlebar ui-widget-header ui-corner-all ' +\n",
       "        'ui-helper-clearfix\"/>');\n",
       "    var titletext = $(\n",
       "        '<div class=\"ui-dialog-title\" style=\"width: 100%; ' +\n",
       "        'text-align: center; padding: 3px;\"/>');\n",
       "    titlebar.append(titletext)\n",
       "    this.root.append(titlebar);\n",
       "    this.header = titletext[0];\n",
       "}\n",
       "\n",
       "\n",
       "\n",
       "mpl.figure.prototype._canvas_extra_style = function(canvas_div) {\n",
       "\n",
       "}\n",
       "\n",
       "\n",
       "mpl.figure.prototype._root_extra_style = function(canvas_div) {\n",
       "\n",
       "}\n",
       "\n",
       "mpl.figure.prototype._init_canvas = function() {\n",
       "    var fig = this;\n",
       "\n",
       "    var canvas_div = $('<div/>');\n",
       "\n",
       "    canvas_div.attr('style', 'position: relative; clear: both; outline: 0');\n",
       "\n",
       "    function canvas_keyboard_event(event) {\n",
       "        return fig.key_event(event, event['data']);\n",
       "    }\n",
       "\n",
       "    canvas_div.keydown('key_press', canvas_keyboard_event);\n",
       "    canvas_div.keyup('key_release', canvas_keyboard_event);\n",
       "    this.canvas_div = canvas_div\n",
       "    this._canvas_extra_style(canvas_div)\n",
       "    this.root.append(canvas_div);\n",
       "\n",
       "    var canvas = $('<canvas/>');\n",
       "    canvas.addClass('mpl-canvas');\n",
       "    canvas.attr('style', \"left: 0; top: 0; z-index: 0; outline: 0\")\n",
       "\n",
       "    this.canvas = canvas[0];\n",
       "    this.context = canvas[0].getContext(\"2d\");\n",
       "\n",
       "    var backingStore = this.context.backingStorePixelRatio ||\n",
       "\tthis.context.webkitBackingStorePixelRatio ||\n",
       "\tthis.context.mozBackingStorePixelRatio ||\n",
       "\tthis.context.msBackingStorePixelRatio ||\n",
       "\tthis.context.oBackingStorePixelRatio ||\n",
       "\tthis.context.backingStorePixelRatio || 1;\n",
       "\n",
       "    mpl.ratio = (window.devicePixelRatio || 1) / backingStore;\n",
       "\n",
       "    var rubberband = $('<canvas/>');\n",
       "    rubberband.attr('style', \"position: absolute; left: 0; top: 0; z-index: 1;\")\n",
       "\n",
       "    var pass_mouse_events = true;\n",
       "\n",
       "    canvas_div.resizable({\n",
       "        start: function(event, ui) {\n",
       "            pass_mouse_events = false;\n",
       "        },\n",
       "        resize: function(event, ui) {\n",
       "            fig.request_resize(ui.size.width, ui.size.height);\n",
       "        },\n",
       "        stop: function(event, ui) {\n",
       "            pass_mouse_events = true;\n",
       "            fig.request_resize(ui.size.width, ui.size.height);\n",
       "        },\n",
       "    });\n",
       "\n",
       "    function mouse_event_fn(event) {\n",
       "        if (pass_mouse_events)\n",
       "            return fig.mouse_event(event, event['data']);\n",
       "    }\n",
       "\n",
       "    rubberband.mousedown('button_press', mouse_event_fn);\n",
       "    rubberband.mouseup('button_release', mouse_event_fn);\n",
       "    // Throttle sequential mouse events to 1 every 20ms.\n",
       "    rubberband.mousemove('motion_notify', mouse_event_fn);\n",
       "\n",
       "    rubberband.mouseenter('figure_enter', mouse_event_fn);\n",
       "    rubberband.mouseleave('figure_leave', mouse_event_fn);\n",
       "\n",
       "    canvas_div.on(\"wheel\", function (event) {\n",
       "        event = event.originalEvent;\n",
       "        event['data'] = 'scroll'\n",
       "        if (event.deltaY < 0) {\n",
       "            event.step = 1;\n",
       "        } else {\n",
       "            event.step = -1;\n",
       "        }\n",
       "        mouse_event_fn(event);\n",
       "    });\n",
       "\n",
       "    canvas_div.append(canvas);\n",
       "    canvas_div.append(rubberband);\n",
       "\n",
       "    this.rubberband = rubberband;\n",
       "    this.rubberband_canvas = rubberband[0];\n",
       "    this.rubberband_context = rubberband[0].getContext(\"2d\");\n",
       "    this.rubberband_context.strokeStyle = \"#000000\";\n",
       "\n",
       "    this._resize_canvas = function(width, height) {\n",
       "        // Keep the size of the canvas, canvas container, and rubber band\n",
       "        // canvas in synch.\n",
       "        canvas_div.css('width', width)\n",
       "        canvas_div.css('height', height)\n",
       "\n",
       "        canvas.attr('width', width * mpl.ratio);\n",
       "        canvas.attr('height', height * mpl.ratio);\n",
       "        canvas.attr('style', 'width: ' + width + 'px; height: ' + height + 'px;');\n",
       "\n",
       "        rubberband.attr('width', width);\n",
       "        rubberband.attr('height', height);\n",
       "    }\n",
       "\n",
       "    // Set the figure to an initial 600x600px, this will subsequently be updated\n",
       "    // upon first draw.\n",
       "    this._resize_canvas(600, 600);\n",
       "\n",
       "    // Disable right mouse context menu.\n",
       "    $(this.rubberband_canvas).bind(\"contextmenu\",function(e){\n",
       "        return false;\n",
       "    });\n",
       "\n",
       "    function set_focus () {\n",
       "        canvas.focus();\n",
       "        canvas_div.focus();\n",
       "    }\n",
       "\n",
       "    window.setTimeout(set_focus, 100);\n",
       "}\n",
       "\n",
       "mpl.figure.prototype._init_toolbar = function() {\n",
       "    var fig = this;\n",
       "\n",
       "    var nav_element = $('<div/>')\n",
       "    nav_element.attr('style', 'width: 100%');\n",
       "    this.root.append(nav_element);\n",
       "\n",
       "    // Define a callback function for later on.\n",
       "    function toolbar_event(event) {\n",
       "        return fig.toolbar_button_onclick(event['data']);\n",
       "    }\n",
       "    function toolbar_mouse_event(event) {\n",
       "        return fig.toolbar_button_onmouseover(event['data']);\n",
       "    }\n",
       "\n",
       "    for(var toolbar_ind in mpl.toolbar_items) {\n",
       "        var name = mpl.toolbar_items[toolbar_ind][0];\n",
       "        var tooltip = mpl.toolbar_items[toolbar_ind][1];\n",
       "        var image = mpl.toolbar_items[toolbar_ind][2];\n",
       "        var method_name = mpl.toolbar_items[toolbar_ind][3];\n",
       "\n",
       "        if (!name) {\n",
       "            // put a spacer in here.\n",
       "            continue;\n",
       "        }\n",
       "        var button = $('<button/>');\n",
       "        button.addClass('ui-button ui-widget ui-state-default ui-corner-all ' +\n",
       "                        'ui-button-icon-only');\n",
       "        button.attr('role', 'button');\n",
       "        button.attr('aria-disabled', 'false');\n",
       "        button.click(method_name, toolbar_event);\n",
       "        button.mouseover(tooltip, toolbar_mouse_event);\n",
       "\n",
       "        var icon_img = $('<span/>');\n",
       "        icon_img.addClass('ui-button-icon-primary ui-icon');\n",
       "        icon_img.addClass(image);\n",
       "        icon_img.addClass('ui-corner-all');\n",
       "\n",
       "        var tooltip_span = $('<span/>');\n",
       "        tooltip_span.addClass('ui-button-text');\n",
       "        tooltip_span.html(tooltip);\n",
       "\n",
       "        button.append(icon_img);\n",
       "        button.append(tooltip_span);\n",
       "\n",
       "        nav_element.append(button);\n",
       "    }\n",
       "\n",
       "    var fmt_picker_span = $('<span/>');\n",
       "\n",
       "    var fmt_picker = $('<select/>');\n",
       "    fmt_picker.addClass('mpl-toolbar-option ui-widget ui-widget-content');\n",
       "    fmt_picker_span.append(fmt_picker);\n",
       "    nav_element.append(fmt_picker_span);\n",
       "    this.format_dropdown = fmt_picker[0];\n",
       "\n",
       "    for (var ind in mpl.extensions) {\n",
       "        var fmt = mpl.extensions[ind];\n",
       "        var option = $(\n",
       "            '<option/>', {selected: fmt === mpl.default_extension}).html(fmt);\n",
       "        fmt_picker.append(option)\n",
       "    }\n",
       "\n",
       "    // Add hover states to the ui-buttons\n",
       "    $( \".ui-button\" ).hover(\n",
       "        function() { $(this).addClass(\"ui-state-hover\");},\n",
       "        function() { $(this).removeClass(\"ui-state-hover\");}\n",
       "    );\n",
       "\n",
       "    var status_bar = $('<span class=\"mpl-message\"/>');\n",
       "    nav_element.append(status_bar);\n",
       "    this.message = status_bar[0];\n",
       "}\n",
       "\n",
       "mpl.figure.prototype.request_resize = function(x_pixels, y_pixels) {\n",
       "    // Request matplotlib to resize the figure. Matplotlib will then trigger a resize in the client,\n",
       "    // which will in turn request a refresh of the image.\n",
       "    this.send_message('resize', {'width': x_pixels, 'height': y_pixels});\n",
       "}\n",
       "\n",
       "mpl.figure.prototype.send_message = function(type, properties) {\n",
       "    properties['type'] = type;\n",
       "    properties['figure_id'] = this.id;\n",
       "    this.ws.send(JSON.stringify(properties));\n",
       "}\n",
       "\n",
       "mpl.figure.prototype.send_draw_message = function() {\n",
       "    if (!this.waiting) {\n",
       "        this.waiting = true;\n",
       "        this.ws.send(JSON.stringify({type: \"draw\", figure_id: this.id}));\n",
       "    }\n",
       "}\n",
       "\n",
       "\n",
       "mpl.figure.prototype.handle_save = function(fig, msg) {\n",
       "    var format_dropdown = fig.format_dropdown;\n",
       "    var format = format_dropdown.options[format_dropdown.selectedIndex].value;\n",
       "    fig.ondownload(fig, format);\n",
       "}\n",
       "\n",
       "\n",
       "mpl.figure.prototype.handle_resize = function(fig, msg) {\n",
       "    var size = msg['size'];\n",
       "    if (size[0] != fig.canvas.width || size[1] != fig.canvas.height) {\n",
       "        fig._resize_canvas(size[0], size[1]);\n",
       "        fig.send_message(\"refresh\", {});\n",
       "    };\n",
       "}\n",
       "\n",
       "mpl.figure.prototype.handle_rubberband = function(fig, msg) {\n",
       "    var x0 = msg['x0'] / mpl.ratio;\n",
       "    var y0 = (fig.canvas.height - msg['y0']) / mpl.ratio;\n",
       "    var x1 = msg['x1'] / mpl.ratio;\n",
       "    var y1 = (fig.canvas.height - msg['y1']) / mpl.ratio;\n",
       "    x0 = Math.floor(x0) + 0.5;\n",
       "    y0 = Math.floor(y0) + 0.5;\n",
       "    x1 = Math.floor(x1) + 0.5;\n",
       "    y1 = Math.floor(y1) + 0.5;\n",
       "    var min_x = Math.min(x0, x1);\n",
       "    var min_y = Math.min(y0, y1);\n",
       "    var width = Math.abs(x1 - x0);\n",
       "    var height = Math.abs(y1 - y0);\n",
       "\n",
       "    fig.rubberband_context.clearRect(\n",
       "        0, 0, fig.canvas.width, fig.canvas.height);\n",
       "\n",
       "    fig.rubberband_context.strokeRect(min_x, min_y, width, height);\n",
       "}\n",
       "\n",
       "mpl.figure.prototype.handle_figure_label = function(fig, msg) {\n",
       "    // Updates the figure title.\n",
       "    fig.header.textContent = msg['label'];\n",
       "}\n",
       "\n",
       "mpl.figure.prototype.handle_cursor = function(fig, msg) {\n",
       "    var cursor = msg['cursor'];\n",
       "    switch(cursor)\n",
       "    {\n",
       "    case 0:\n",
       "        cursor = 'pointer';\n",
       "        break;\n",
       "    case 1:\n",
       "        cursor = 'default';\n",
       "        break;\n",
       "    case 2:\n",
       "        cursor = 'crosshair';\n",
       "        break;\n",
       "    case 3:\n",
       "        cursor = 'move';\n",
       "        break;\n",
       "    }\n",
       "    fig.rubberband_canvas.style.cursor = cursor;\n",
       "}\n",
       "\n",
       "mpl.figure.prototype.handle_message = function(fig, msg) {\n",
       "    fig.message.textContent = msg['message'];\n",
       "}\n",
       "\n",
       "mpl.figure.prototype.handle_draw = function(fig, msg) {\n",
       "    // Request the server to send over a new figure.\n",
       "    fig.send_draw_message();\n",
       "}\n",
       "\n",
       "mpl.figure.prototype.handle_image_mode = function(fig, msg) {\n",
       "    fig.image_mode = msg['mode'];\n",
       "}\n",
       "\n",
       "mpl.figure.prototype.updated_canvas_event = function() {\n",
       "    // Called whenever the canvas gets updated.\n",
       "    this.send_message(\"ack\", {});\n",
       "}\n",
       "\n",
       "// A function to construct a web socket function for onmessage handling.\n",
       "// Called in the figure constructor.\n",
       "mpl.figure.prototype._make_on_message_function = function(fig) {\n",
       "    return function socket_on_message(evt) {\n",
       "        if (evt.data instanceof Blob) {\n",
       "            /* FIXME: We get \"Resource interpreted as Image but\n",
       "             * transferred with MIME type text/plain:\" errors on\n",
       "             * Chrome.  But how to set the MIME type?  It doesn't seem\n",
       "             * to be part of the websocket stream */\n",
       "            evt.data.type = \"image/png\";\n",
       "\n",
       "            /* Free the memory for the previous frames */\n",
       "            if (fig.imageObj.src) {\n",
       "                (window.URL || window.webkitURL).revokeObjectURL(\n",
       "                    fig.imageObj.src);\n",
       "            }\n",
       "\n",
       "            fig.imageObj.src = (window.URL || window.webkitURL).createObjectURL(\n",
       "                evt.data);\n",
       "            fig.updated_canvas_event();\n",
       "            fig.waiting = false;\n",
       "            return;\n",
       "        }\n",
       "        else if (typeof evt.data === 'string' && evt.data.slice(0, 21) == \"data:image/png;base64\") {\n",
       "            fig.imageObj.src = evt.data;\n",
       "            fig.updated_canvas_event();\n",
       "            fig.waiting = false;\n",
       "            return;\n",
       "        }\n",
       "\n",
       "        var msg = JSON.parse(evt.data);\n",
       "        var msg_type = msg['type'];\n",
       "\n",
       "        // Call the  \"handle_{type}\" callback, which takes\n",
       "        // the figure and JSON message as its only arguments.\n",
       "        try {\n",
       "            var callback = fig[\"handle_\" + msg_type];\n",
       "        } catch (e) {\n",
       "            console.log(\"No handler for the '\" + msg_type + \"' message type: \", msg);\n",
       "            return;\n",
       "        }\n",
       "\n",
       "        if (callback) {\n",
       "            try {\n",
       "                // console.log(\"Handling '\" + msg_type + \"' message: \", msg);\n",
       "                callback(fig, msg);\n",
       "            } catch (e) {\n",
       "                console.log(\"Exception inside the 'handler_\" + msg_type + \"' callback:\", e, e.stack, msg);\n",
       "            }\n",
       "        }\n",
       "    };\n",
       "}\n",
       "\n",
       "// from http://stackoverflow.com/questions/1114465/getting-mouse-location-in-canvas\n",
       "mpl.findpos = function(e) {\n",
       "    //this section is from http://www.quirksmode.org/js/events_properties.html\n",
       "    var targ;\n",
       "    if (!e)\n",
       "        e = window.event;\n",
       "    if (e.target)\n",
       "        targ = e.target;\n",
       "    else if (e.srcElement)\n",
       "        targ = e.srcElement;\n",
       "    if (targ.nodeType == 3) // defeat Safari bug\n",
       "        targ = targ.parentNode;\n",
       "\n",
       "    // jQuery normalizes the pageX and pageY\n",
       "    // pageX,Y are the mouse positions relative to the document\n",
       "    // offset() returns the position of the element relative to the document\n",
       "    var x = e.pageX - $(targ).offset().left;\n",
       "    var y = e.pageY - $(targ).offset().top;\n",
       "\n",
       "    return {\"x\": x, \"y\": y};\n",
       "};\n",
       "\n",
       "/*\n",
       " * return a copy of an object with only non-object keys\n",
       " * we need this to avoid circular references\n",
       " * http://stackoverflow.com/a/24161582/3208463\n",
       " */\n",
       "function simpleKeys (original) {\n",
       "  return Object.keys(original).reduce(function (obj, key) {\n",
       "    if (typeof original[key] !== 'object')\n",
       "        obj[key] = original[key]\n",
       "    return obj;\n",
       "  }, {});\n",
       "}\n",
       "\n",
       "mpl.figure.prototype.mouse_event = function(event, name) {\n",
       "    var canvas_pos = mpl.findpos(event)\n",
       "\n",
       "    if (name === 'button_press')\n",
       "    {\n",
       "        this.canvas.focus();\n",
       "        this.canvas_div.focus();\n",
       "    }\n",
       "\n",
       "    var x = canvas_pos.x * mpl.ratio;\n",
       "    var y = canvas_pos.y * mpl.ratio;\n",
       "\n",
       "    this.send_message(name, {x: x, y: y, button: event.button,\n",
       "                             step: event.step,\n",
       "                             guiEvent: simpleKeys(event)});\n",
       "\n",
       "    /* This prevents the web browser from automatically changing to\n",
       "     * the text insertion cursor when the button is pressed.  We want\n",
       "     * to control all of the cursor setting manually through the\n",
       "     * 'cursor' event from matplotlib */\n",
       "    event.preventDefault();\n",
       "    return false;\n",
       "}\n",
       "\n",
       "mpl.figure.prototype._key_event_extra = function(event, name) {\n",
       "    // Handle any extra behaviour associated with a key event\n",
       "}\n",
       "\n",
       "mpl.figure.prototype.key_event = function(event, name) {\n",
       "\n",
       "    // Prevent repeat events\n",
       "    if (name == 'key_press')\n",
       "    {\n",
       "        if (event.which === this._key)\n",
       "            return;\n",
       "        else\n",
       "            this._key = event.which;\n",
       "    }\n",
       "    if (name == 'key_release')\n",
       "        this._key = null;\n",
       "\n",
       "    var value = '';\n",
       "    if (event.ctrlKey && event.which != 17)\n",
       "        value += \"ctrl+\";\n",
       "    if (event.altKey && event.which != 18)\n",
       "        value += \"alt+\";\n",
       "    if (event.shiftKey && event.which != 16)\n",
       "        value += \"shift+\";\n",
       "\n",
       "    value += 'k';\n",
       "    value += event.which.toString();\n",
       "\n",
       "    this._key_event_extra(event, name);\n",
       "\n",
       "    this.send_message(name, {key: value,\n",
       "                             guiEvent: simpleKeys(event)});\n",
       "    return false;\n",
       "}\n",
       "\n",
       "mpl.figure.prototype.toolbar_button_onclick = function(name) {\n",
       "    if (name == 'download') {\n",
       "        this.handle_save(this, null);\n",
       "    } else {\n",
       "        this.send_message(\"toolbar_button\", {name: name});\n",
       "    }\n",
       "};\n",
       "\n",
       "mpl.figure.prototype.toolbar_button_onmouseover = function(tooltip) {\n",
       "    this.message.textContent = tooltip;\n",
       "};\n",
       "mpl.toolbar_items = [[\"Home\", \"Reset original view\", \"fa fa-home icon-home\", \"home\"], [\"Back\", \"Back to  previous view\", \"fa fa-arrow-left icon-arrow-left\", \"back\"], [\"Forward\", \"Forward to next view\", \"fa fa-arrow-right icon-arrow-right\", \"forward\"], [\"\", \"\", \"\", \"\"], [\"Pan\", \"Pan axes with left mouse, zoom with right\", \"fa fa-arrows icon-move\", \"pan\"], [\"Zoom\", \"Zoom to rectangle\", \"fa fa-square-o icon-check-empty\", \"zoom\"], [\"\", \"\", \"\", \"\"], [\"Download\", \"Download plot\", \"fa fa-floppy-o icon-save\", \"download\"]];\n",
       "\n",
       "mpl.extensions = [\"eps\", \"pdf\", \"png\", \"ps\", \"raw\", \"svg\"];\n",
       "\n",
       "mpl.default_extension = \"png\";var comm_websocket_adapter = function(comm) {\n",
       "    // Create a \"websocket\"-like object which calls the given IPython comm\n",
       "    // object with the appropriate methods. Currently this is a non binary\n",
       "    // socket, so there is still some room for performance tuning.\n",
       "    var ws = {};\n",
       "\n",
       "    ws.close = function() {\n",
       "        comm.close()\n",
       "    };\n",
       "    ws.send = function(m) {\n",
       "        //console.log('sending', m);\n",
       "        comm.send(m);\n",
       "    };\n",
       "    // Register the callback with on_msg.\n",
       "    comm.on_msg(function(msg) {\n",
       "        //console.log('receiving', msg['content']['data'], msg);\n",
       "        // Pass the mpl event to the overriden (by mpl) onmessage function.\n",
       "        ws.onmessage(msg['content']['data'])\n",
       "    });\n",
       "    return ws;\n",
       "}\n",
       "\n",
       "mpl.mpl_figure_comm = function(comm, msg) {\n",
       "    // This is the function which gets called when the mpl process\n",
       "    // starts-up an IPython Comm through the \"matplotlib\" channel.\n",
       "\n",
       "    var id = msg.content.data.id;\n",
       "    // Get hold of the div created by the display call when the Comm\n",
       "    // socket was opened in Python.\n",
       "    var element = $(\"#\" + id);\n",
       "    var ws_proxy = comm_websocket_adapter(comm)\n",
       "\n",
       "    function ondownload(figure, format) {\n",
       "        window.open(figure.imageObj.src);\n",
       "    }\n",
       "\n",
       "    var fig = new mpl.figure(id, ws_proxy,\n",
       "                           ondownload,\n",
       "                           element.get(0));\n",
       "\n",
       "    // Call onopen now - mpl needs it, as it is assuming we've passed it a real\n",
       "    // web socket which is closed, not our websocket->open comm proxy.\n",
       "    ws_proxy.onopen();\n",
       "\n",
       "    fig.parent_element = element.get(0);\n",
       "    fig.cell_info = mpl.find_output_cell(\"<div id='\" + id + \"'></div>\");\n",
       "    if (!fig.cell_info) {\n",
       "        console.error(\"Failed to find cell for figure\", id, fig);\n",
       "        return;\n",
       "    }\n",
       "\n",
       "    var output_index = fig.cell_info[2]\n",
       "    var cell = fig.cell_info[0];\n",
       "\n",
       "};\n",
       "\n",
       "mpl.figure.prototype.handle_close = function(fig, msg) {\n",
       "    var width = fig.canvas.width/mpl.ratio\n",
       "    fig.root.unbind('remove')\n",
       "\n",
       "    // Update the output cell to use the data from the current canvas.\n",
       "    fig.push_to_output();\n",
       "    var dataURL = fig.canvas.toDataURL();\n",
       "    // Re-enable the keyboard manager in IPython - without this line, in FF,\n",
       "    // the notebook keyboard shortcuts fail.\n",
       "    IPython.keyboard_manager.enable()\n",
       "    $(fig.parent_element).html('<img src=\"' + dataURL + '\" width=\"' + width + '\">');\n",
       "    fig.close_ws(fig, msg);\n",
       "}\n",
       "\n",
       "mpl.figure.prototype.close_ws = function(fig, msg){\n",
       "    fig.send_message('closing', msg);\n",
       "    // fig.ws.close()\n",
       "}\n",
       "\n",
       "mpl.figure.prototype.push_to_output = function(remove_interactive) {\n",
       "    // Turn the data on the canvas into data in the output cell.\n",
       "    var width = this.canvas.width/mpl.ratio\n",
       "    var dataURL = this.canvas.toDataURL();\n",
       "    this.cell_info[1]['text/html'] = '<img src=\"' + dataURL + '\" width=\"' + width + '\">';\n",
       "}\n",
       "\n",
       "mpl.figure.prototype.updated_canvas_event = function() {\n",
       "    // Tell IPython that the notebook contents must change.\n",
       "    IPython.notebook.set_dirty(true);\n",
       "    this.send_message(\"ack\", {});\n",
       "    var fig = this;\n",
       "    // Wait a second, then push the new image to the DOM so\n",
       "    // that it is saved nicely (might be nice to debounce this).\n",
       "    setTimeout(function () { fig.push_to_output() }, 1000);\n",
       "}\n",
       "\n",
       "mpl.figure.prototype._init_toolbar = function() {\n",
       "    var fig = this;\n",
       "\n",
       "    var nav_element = $('<div/>')\n",
       "    nav_element.attr('style', 'width: 100%');\n",
       "    this.root.append(nav_element);\n",
       "\n",
       "    // Define a callback function for later on.\n",
       "    function toolbar_event(event) {\n",
       "        return fig.toolbar_button_onclick(event['data']);\n",
       "    }\n",
       "    function toolbar_mouse_event(event) {\n",
       "        return fig.toolbar_button_onmouseover(event['data']);\n",
       "    }\n",
       "\n",
       "    for(var toolbar_ind in mpl.toolbar_items){\n",
       "        var name = mpl.toolbar_items[toolbar_ind][0];\n",
       "        var tooltip = mpl.toolbar_items[toolbar_ind][1];\n",
       "        var image = mpl.toolbar_items[toolbar_ind][2];\n",
       "        var method_name = mpl.toolbar_items[toolbar_ind][3];\n",
       "\n",
       "        if (!name) { continue; };\n",
       "\n",
       "        var button = $('<button class=\"btn btn-default\" href=\"#\" title=\"' + name + '\"><i class=\"fa ' + image + ' fa-lg\"></i></button>');\n",
       "        button.click(method_name, toolbar_event);\n",
       "        button.mouseover(tooltip, toolbar_mouse_event);\n",
       "        nav_element.append(button);\n",
       "    }\n",
       "\n",
       "    // Add the status bar.\n",
       "    var status_bar = $('<span class=\"mpl-message\" style=\"text-align:right; float: right;\"/>');\n",
       "    nav_element.append(status_bar);\n",
       "    this.message = status_bar[0];\n",
       "\n",
       "    // Add the close button to the window.\n",
       "    var buttongrp = $('<div class=\"btn-group inline pull-right\"></div>');\n",
       "    var button = $('<button class=\"btn btn-mini btn-primary\" href=\"#\" title=\"Stop Interaction\"><i class=\"fa fa-power-off icon-remove icon-large\"></i></button>');\n",
       "    button.click(function (evt) { fig.handle_close(fig, {}); } );\n",
       "    button.mouseover('Stop Interaction', toolbar_mouse_event);\n",
       "    buttongrp.append(button);\n",
       "    var titlebar = this.root.find($('.ui-dialog-titlebar'));\n",
       "    titlebar.prepend(buttongrp);\n",
       "}\n",
       "\n",
       "mpl.figure.prototype._root_extra_style = function(el){\n",
       "    var fig = this\n",
       "    el.on(\"remove\", function(){\n",
       "\tfig.close_ws(fig, {});\n",
       "    });\n",
       "}\n",
       "\n",
       "mpl.figure.prototype._canvas_extra_style = function(el){\n",
       "    // this is important to make the div 'focusable\n",
       "    el.attr('tabindex', 0)\n",
       "    // reach out to IPython and tell the keyboard manager to turn it's self\n",
       "    // off when our div gets focus\n",
       "\n",
       "    // location in version 3\n",
       "    if (IPython.notebook.keyboard_manager) {\n",
       "        IPython.notebook.keyboard_manager.register_events(el);\n",
       "    }\n",
       "    else {\n",
       "        // location in version 2\n",
       "        IPython.keyboard_manager.register_events(el);\n",
       "    }\n",
       "\n",
       "}\n",
       "\n",
       "mpl.figure.prototype._key_event_extra = function(event, name) {\n",
       "    var manager = IPython.notebook.keyboard_manager;\n",
       "    if (!manager)\n",
       "        manager = IPython.keyboard_manager;\n",
       "\n",
       "    // Check for shift+enter\n",
       "    if (event.shiftKey && event.which == 13) {\n",
       "        this.canvas_div.blur();\n",
       "        // select the cell after this one\n",
       "        var index = IPython.notebook.find_cell_index(this.cell_info[0]);\n",
       "        IPython.notebook.select(index + 1);\n",
       "    }\n",
       "}\n",
       "\n",
       "mpl.figure.prototype.handle_save = function(fig, msg) {\n",
       "    fig.ondownload(fig, null);\n",
       "}\n",
       "\n",
       "\n",
       "mpl.find_output_cell = function(html_output) {\n",
       "    // Return the cell and output element which can be found *uniquely* in the notebook.\n",
       "    // Note - this is a bit hacky, but it is done because the \"notebook_saving.Notebook\"\n",
       "    // IPython event is triggered only after the cells have been serialised, which for\n",
       "    // our purposes (turning an active figure into a static one), is too late.\n",
       "    var cells = IPython.notebook.get_cells();\n",
       "    var ncells = cells.length;\n",
       "    for (var i=0; i<ncells; i++) {\n",
       "        var cell = cells[i];\n",
       "        if (cell.cell_type === 'code'){\n",
       "            for (var j=0; j<cell.output_area.outputs.length; j++) {\n",
       "                var data = cell.output_area.outputs[j];\n",
       "                if (data.data) {\n",
       "                    // IPython >= 3 moved mimebundle to data attribute of output\n",
       "                    data = data.data;\n",
       "                }\n",
       "                if (data['text/html'] == html_output) {\n",
       "                    return [cell, data, j];\n",
       "                }\n",
       "            }\n",
       "        }\n",
       "    }\n",
       "}\n",
       "\n",
       "// Register the function which deals with the matplotlib target/channel.\n",
       "// The kernel may be null if the page has been refreshed.\n",
       "if (IPython.notebook.kernel != null) {\n",
       "    IPython.notebook.kernel.comm_manager.register_target('matplotlib', mpl.mpl_figure_comm);\n",
       "}\n"
      ],
      "text/plain": [
       "<IPython.core.display.Javascript object>"
      ]
     },
     "metadata": {},
     "output_type": "display_data"
    },
    {
     "data": {
      "text/html": [
       "<div id='6ee4dab5-b455-4e8f-95d5-991fb860942a'></div>"
      ],
      "text/plain": [
       "<IPython.core.display.HTML object>"
      ]
     },
     "metadata": {},
     "output_type": "display_data"
    }
   ],
   "source": [
    "import neurom.viewer\n",
    "neurom.viewer.draw(neurom.load_neuron(morphology_filename));"
   ]
  },
  {
   "cell_type": "markdown",
   "metadata": {},
   "source": [
    "To load the morphology we create a NrnFileMorphology object. We set 'do_replace_axon' to True to replace the axon with a Axon Initial Segment."
   ]
  },
  {
   "cell_type": "code",
   "execution_count": 4,
   "metadata": {
    "collapsed": false
   },
   "outputs": [
    {
     "name": "stdout",
     "output_type": "stream",
     "text": [
      "morphology/OH141125_A0_idA.ASC\n"
     ]
    }
   ],
   "source": [
    "morphology = ephys.morphologies.NrnFileMorphology(morphology_filename, do_replace_axon=True)\n",
    "\n",
    "print(str(morphology))"
   ]
  },
  {
   "cell_type": "markdown",
   "metadata": {},
   "source": [
    "### Parameters"
   ]
  },
  {
   "cell_type": "markdown",
   "metadata": {},
   "source": [
    "Since we have many parameters in this model, they are stored in a json file: https://github.com/BlueBrain/BluePyOpt/blob/master/examples/l5pc/config/parameters.json"
   ]
  },
  {
   "cell_type": "code",
   "execution_count": 5,
   "metadata": {
    "collapsed": false
   },
   "outputs": [
    {
     "data": {
      "text/plain": [
       "({'bounds': [0, 1],\n",
       "  'dist_type': 'uniform',\n",
       "  'mech': 'NaTs2_t',\n",
       "  'mech_param': 'gNaTs2_tbar',\n",
       "  'param_name': 'gNaTs2_tbar_NaTs2_t',\n",
       "  'sectionlist': 'somatic',\n",
       "  'type': 'range'},)"
      ]
     },
     "execution_count": 5,
     "metadata": {},
     "output_type": "execute_result"
    }
   ],
   "source": [
    "# Example of json entry: Frozen Parameter for the equilibrum membrane potential\n",
    "{\n",
    "    \"param_name\": \"e_pas\",\n",
    "    \"sectionlist\": \"all\",\n",
    "    \"type\": \"section\",\n",
    "    \"dist_type\": \"uniform\",\n",
    "    \"value\": -75\n",
    "},\n",
    "# Example of json entry: Bounded Parameter\n",
    "{\n",
    "    \"param_name\": \"gNaTs2_tbar_NaTs2_t\",\n",
    "    \"mech\": \"NaTs2_t\",\n",
    "    \"bounds\": [\n",
    "        0,\n",
    "        1\n",
    "    ],\n",
    "    \"dist_type\": \"uniform\",\n",
    "    \"mech_param\": \"gNaTs2_tbar\",\n",
    "    \"type\": \"range\",\n",
    "    \"sectionlist\": \"somatic\"\n",
    "},\n",
    "#Can see the file features in config "
   ]
  },
  {
   "cell_type": "code",
   "execution_count": 6,
   "metadata": {
    "collapsed": false
   },
   "outputs": [],
   "source": [
    "import json\n",
    "param_configs = json.load(open('config/parameters.json'))"
   ]
  },
  {
   "cell_type": "code",
   "execution_count": 7,
   "metadata": {
    "collapsed": false
   },
   "outputs": [
    {
     "name": "stdout",
     "output_type": "stream",
     "text": [
      "Parameter Name           : Par Type  : Value          : SecList   : Distribution Type\n",
      "----------------------------------------------------------------------------------------------------\n",
      "g_pas                    : section   : 3e-05          : all       : uniform   \n",
      "e_pas                    : section   : -75            : all       : uniform   \n",
      "cm                       : section   : 1              : all       : uniform   \n",
      "Ra                       : section   : 100            : all       : uniform   \n",
      "v_init                   : global    : -65            : NA        : NA        \n",
      "celsius                  : global    : 34             : NA        : NA        \n",
      "ena                      : section   : 50             : somatic   : uniform   \n",
      "ek                       : section   : -85            : somatic   : uniform   \n",
      "gNaTs2_tbar_NaTs2_t      : range     : [0, 1]         : somatic   : uniform   \n",
      "gSKv3_1bar_SKv3_1        : range     : [0, 1]         : somatic   : uniform   \n",
      "gSK_E2bar_SK_E2          : range     : [0, 0.1]       : somatic   : uniform   \n",
      "gCa_HVAbar_Ca_HVA        : range     : [0, 0.001]     : somatic   : uniform   \n",
      "gCa_LVAstbar_Ca_LVAst    : range     : [0, 0.01]      : somatic   : uniform   \n",
      "gamma_CaDynamics_E2      : range     : [0.0005, 0.05] : somatic   : uniform   \n",
      "decay_CaDynamics_E2      : range     : [20, 1000]     : somatic   : uniform   \n",
      "gIhbar_Ih                : range     : 8e-05          : somatic   : uniform   \n"
     ]
    }
   ],
   "source": [
    "print('{0:<25}: {1:<10}: {2:<15}: {3:<10}: {4:<10}'.format('Parameter Name',\n",
    "                                                           'Par Type',\n",
    "                                                           'Value',\n",
    "                                                           'SecList',\n",
    "                                                           'Distribution Type'))\n",
    "print('-'*100)\n",
    "for param_config in param_configs:\n",
    "    \n",
    "    string = '{0:<25}: {1:<10}: '.format(param_config['param_name'],\n",
    "                                         param_config['type'])\n",
    "\n",
    "    if 'value' in param_config:\n",
    "        string += '{0:<15}: '.format(param_config['value'])\n",
    "    elif 'range' in param_config['type']:\n",
    "        string += '{0:<15}: '.format(param_config['bounds'])\n",
    "\n",
    "    if 'sectionlist' in param_config:\n",
    "        string += '{0:<10}: '.format(param_config['sectionlist'])\n",
    "    else:\n",
    "        string += '{0:<10}: '.format('NA')\n",
    "\n",
    "    if 'dist_type' in param_config:\n",
    "        \n",
    "        string += '{0:<10}'.format(param_config['dist_type'])\n",
    "    else:\n",
    "        string += '{0:<10}'.format('NA')\n",
    "\n",
    "    print(string)"
   ]
  },
  {
   "cell_type": "markdown",
   "metadata": {},
   "source": [
    "The directory that contains this notebook has a module that will load all the parameters in BluePyOpt Parameter objects"
   ]
  },
  {
   "cell_type": "code",
   "execution_count": 8,
   "metadata": {
    "collapsed": false
   },
   "outputs": [
    {
     "name": "stdout",
     "output_type": "stream",
     "text": [
      "g_pas.all                                         : 3e-05     \n",
      "e_pas.all                                         : -75       \n",
      "cm.all                                            : 1         \n",
      "Ra.all                                            : 100       \n",
      "v_init                                            : -65       \n",
      "celsius                                           : 34        \n",
      "ena.somatic                                       : 50        \n",
      "ek.somatic                                        : -85       \n",
      "gNaTs2_tbar_NaTs2_t.somatic                       : [0, 1]    \n",
      "gSKv3_1bar_SKv3_1.somatic                         : [0, 1]    \n",
      "gSK_E2bar_SK_E2.somatic                           : [0, 0.1]  \n",
      "gCa_HVAbar_Ca_HVA.somatic                         : [0, 0.001]\n",
      "gCa_LVAstbar_Ca_LVAst.somatic                     : [0, 0.01] \n",
      "gamma_CaDynamics_E2.somatic                       : [0.0005, 0.05]\n",
      "decay_CaDynamics_E2.somatic                       : [20, 1000]\n",
      "gIhbar_Ih.somatic                                 : 8e-05     \n"
     ]
    }
   ],
   "source": [
    "import l5pc_model\n",
    "parameters = l5pc_model.define_parameters()\n",
    "\n",
    "for p in parameters:\n",
    "    print('{0:<50}: {1:<10}'.format(p.name, p.value if p.frozen else p.bounds))"
   ]
  },
  {
   "cell_type": "markdown",
   "metadata": {},
   "source": [
    "As you can see there are two types of parameters, <b>parameters with a fixed value</b> and <b>parameters with bounds</b>. The latter will be optimised by the algorithm."
   ]
  },
  {
   "cell_type": "markdown",
   "metadata": {},
   "source": [
    "### Mechanism"
   ]
  },
  {
   "cell_type": "markdown",
   "metadata": {},
   "source": [
    "We also need to add all the necessary mechanisms, like ion channels to the model. \n",
    "The configuration of the mechanisms is also stored in a json file, and can be loaded in a similar way."
   ]
  },
  {
   "cell_type": "code",
   "execution_count": 22,
   "metadata": {
    "collapsed": false
   },
   "outputs": [
    {
     "name": "stdout",
     "output_type": "stream",
     "text": [
      "pas.all: pas at ['all']\n",
      "leak.somatic: leak at ['somatic']\n",
      "cabalan.somatic: cabalan at ['somatic']\n",
      "cachan.somatic: cachan at ['somatic']\n",
      "capump.somatic: capump at ['somatic']\n",
      "hh3.somatic: hh3 at ['somatic']\n",
      "kca.somatic: kca at ['somatic']\n",
      "hd.somatic: hd at ['somatic']\n"
     ]
    }
   ],
   "source": [
    "mechanisms = l5pc_model.define_mechanisms() \n",
    "\n",
    "print('\\n'.join(map(str, mechanisms)))"
   ]
  },
  {
   "cell_type": "markdown",
   "metadata": {},
   "source": [
    "# Cell model"
   ]
  },
  {
   "cell_type": "markdown",
   "metadata": {},
   "source": [
    "With the morphology, mechanisms and parameters we can build the cell model"
   ]
  },
  {
   "cell_type": "code",
   "execution_count": 23,
   "metadata": {
    "collapsed": false
   },
   "outputs": [
    {
     "name": "stdout",
     "output_type": "stream",
     "text": [
      "l5pc:\n",
      "  morphology:\n",
      "    morphology/OH141125_A0_idA.ASC\n",
      "  mechanisms:\n",
      "    pas.all: pas at ['all']\n",
      "    leak.somatic: leak at ['somatic']\n",
      "    cabalan.somatic: cabalan at ['somatic']\n",
      "    cachan.somatic: cachan at ['somatic']\n",
      "    capump.somatic: capump at ['somatic']\n",
      "    hh3.somatic: hh3 at ['somatic']\n",
      "    kca.somatic: kca at ['somatic']\n",
      "    hd.somatic: hd at ['somatic']\n",
      "  params:\n",
      "    g_pas.all: ['all'] g_pas = 3e-05\n",
      "    e_pas.all: ['all'] e_pas = -75\n",
      "    cm.all: ['all'] cm = 1\n",
      "    Ra.all: ['all'] Ra = 100\n",
      "    v_init: v_init = -65\n",
      "    celsius: celsius = 34\n",
      "    ena.somatic: ['somatic'] ena = 50\n",
      "    ek.somatic: ['somatic'] ek = -85\n",
      "    gNaTs2_tbar_NaTs2_t.somatic: ['somatic'] gNaTs2_tbar_NaTs2_t = [0, 1]\n",
      "    gSKv3_1bar_SKv3_1.somatic: ['somatic'] gSKv3_1bar_SKv3_1 = [0, 1]\n",
      "    gSK_E2bar_SK_E2.somatic: ['somatic'] gSK_E2bar_SK_E2 = [0, 0.1]\n",
      "    gCa_HVAbar_Ca_HVA.somatic: ['somatic'] gCa_HVAbar_Ca_HVA = [0, 0.001]\n",
      "    gCa_LVAstbar_Ca_LVAst.somatic: ['somatic'] gCa_LVAstbar_Ca_LVAst = [0, 0.01]\n",
      "    gamma_CaDynamics_E2.somatic: ['somatic'] gamma_CaDynamics_E2 = [0.0005, 0.05]\n",
      "    decay_CaDynamics_E2.somatic: ['somatic'] decay_CaDynamics_E2 = [20, 1000]\n",
      "    gIhbar_Ih.somatic: ['somatic'] gIhbar_Ih = 8e-05\n",
      "\n"
     ]
    }
   ],
   "source": [
    "l5pc_cell = ephys.models.CellModel('l5pc', morph=morphology, mechs=mechanisms, params=parameters)\n",
    "print(l5pc_cell)"
   ]
  },
  {
   "cell_type": "markdown",
   "metadata": {},
   "source": [
    "For use in the cell evaluator later, we need to make a list of the name of the parameters we are going to optimise.\n",
    "These are the parameters that are not frozen."
   ]
  },
  {
   "cell_type": "code",
   "execution_count": 24,
   "metadata": {
    "collapsed": true
   },
   "outputs": [],
   "source": [
    "param_names = [param.name for param in l5pc_cell.params.values() if not param.frozen]   "
   ]
  },
  {
   "cell_type": "markdown",
   "metadata": {},
   "source": [
    "## Protocols"
   ]
  },
  {
   "cell_type": "markdown",
   "metadata": {},
   "source": [
    "Now that we have a cell model, we can apply protocols to it. The protocols are also stored in a json file."
   ]
  },
  {
   "cell_type": "code",
   "execution_count": 25,
   "metadata": {
    "collapsed": false
   },
   "outputs": [
    {
     "name": "stdout",
     "output_type": "stream",
     "text": [
      "Step1\n",
      "\t {u'delay': 700, u'amp': 0.458, u'duration': 2000, u'totduration': 3000}\n",
      "\t {u'delay': 0, u'amp': -0.126, u'duration': 3000, u'totduration': 3000}\n",
      "Step3\n",
      "\t {u'delay': 700, u'amp': 0.95, u'duration': 2000, u'totduration': 3000}\n",
      "\t {u'delay': 0, u'amp': -0.126, u'duration': 3000, u'totduration': 3000}\n",
      "Step2\n",
      "\t {u'delay': 700, u'amp': 0.562, u'duration': 2000, u'totduration': 3000}\n",
      "\t {u'delay': 0, u'amp': -0.126, u'duration': 3000, u'totduration': 3000}\n",
      "bAP\n",
      "\t {u'delay': 295, u'amp': 1.9, u'duration': 5, u'totduration': 600}\n"
     ]
    }
   ],
   "source": [
    "proto_configs = json.load(open('config/protocols.json'))\n",
    "\n",
    "for key, value in proto_configs.items():\n",
    "    print(key)\n",
    "    for stimulus in value['stimuli']:\n",
    "        print('\\t', stimulus)"
   ]
  },
  {
   "cell_type": "markdown",
   "metadata": {},
   "source": [
    "And they can be automatically loaded"
   ]
  },
  {
   "cell_type": "code",
   "execution_count": 26,
   "metadata": {
    "collapsed": false
   },
   "outputs": [
    {
     "name": "stdout",
     "output_type": "stream",
     "text": [
      "bAP:\n",
      "  stimuli:\n",
      "    Square pulse amp 1.900000 delay 295.000000 duration 5.000000 totdur 600.000000 at somatic[0](0.5)\n",
      "  recordings:\n",
      "    bAP.soma.v: v at somatic[0](0.5)\n",
      "    bAP.dend1.v: v at 660.000000 micron from soma in apical\n",
      "    bAP.dend2.v: v at 800.000000 micron from soma in apical\n",
      "\n",
      "Step3:\n",
      "  stimuli:\n",
      "    Square pulse amp 0.950000 delay 700.000000 duration 2000.000000 totdur 3000.000000 at somatic[0](0.5)\n",
      "    Square pulse amp -0.126000 delay 0.000000 duration 3000.000000 totdur 3000.000000 at somatic[0](0.5)\n",
      "  recordings:\n",
      "    Step3.soma.v: v at somatic[0](0.5)\n",
      "\n",
      "Step2:\n",
      "  stimuli:\n",
      "    Square pulse amp 0.562000 delay 700.000000 duration 2000.000000 totdur 3000.000000 at somatic[0](0.5)\n",
      "    Square pulse amp -0.126000 delay 0.000000 duration 3000.000000 totdur 3000.000000 at somatic[0](0.5)\n",
      "  recordings:\n",
      "    Step2.soma.v: v at somatic[0](0.5)\n",
      "\n",
      "Step1:\n",
      "  stimuli:\n",
      "    Square pulse amp 0.458000 delay 700.000000 duration 2000.000000 totdur 3000.000000 at somatic[0](0.5)\n",
      "    Square pulse amp -0.126000 delay 0.000000 duration 3000.000000 totdur 3000.000000 at somatic[0](0.5)\n",
      "  recordings:\n",
      "    Step1.soma.v: v at somatic[0](0.5)\n",
      "\n"
     ]
    }
   ],
   "source": [
    "import l5pc_evaluator\n",
    "fitness_protocols = l5pc_evaluator.define_protocols()\n",
    "print('\\n'.join('%s' % protocol for protocol in fitness_protocols.values()))"
   ]
  },
  {
   "cell_type": "markdown",
   "metadata": {},
   "source": [
    "## eFeatures"
   ]
  },
  {
   "cell_type": "markdown",
   "metadata": {},
   "source": [
    "For every protocol we need to define which eFeatures will be used as objectives of the optimisation algorithm."
   ]
  },
  {
   "cell_type": "code",
   "execution_count": 27,
   "metadata": {
    "collapsed": false
   },
   "outputs": [
    {
     "name": "stdout",
     "output_type": "stream",
     "text": [
      "{ u'Step1': { u'soma': { u'AHP_depth_abs': [-60.3636, 2.3018],\n",
      "                         u'AHP_depth_abs_slow': [-61.1513, 2.3385],\n",
      "                         u'AHP_slow_time': [0.1599, 0.0483],\n",
      "                         u'AP_height': [25.0141, 3.1463],\n",
      "                         u'AP_width': [3.5312, 0.8592],\n",
      "                         u'ISI_CV': [0.109, 0.1217],\n",
      "                         u'adaptation_index2': [0.0047, 0.0514],\n",
      "                         u'doublet_ISI': [62.75, 9.6667],\n",
      "                         u'mean_frequency': [6, 1.2222],\n",
      "                         u'time_to_first_spike': [27.25, 5.7222]}},\n",
      "  u'Step2': { u'soma': { u'AHP_depth_abs': [-59.9055, 1.8329],\n",
      "                         u'AHP_depth_abs_slow': [-60.2471, 1.8972],\n",
      "                         u'AHP_slow_time': [0.1676, 0.0339],\n",
      "                         u'AP_height': [27.1003, 3.1463],\n",
      "                         u'AP_width': [2.7917, 0.7499],\n",
      "                         u'ISI_CV': [0.0674, 0.075],\n",
      "                         u'adaptation_index2': [0.005, 0.0067],\n",
      "                         u'doublet_ISI': [44.0, 7.1327],\n",
      "                         u'mean_frequency': [8.5, 0.9796],\n",
      "                         u'time_to_first_spike': [19.75, 2.8776]}},\n",
      "  u'Step3': { u'soma': { u'AHP_depth_abs': [-57.0905, 2.3427],\n",
      "                         u'AHP_depth_abs_slow': [-61.1513, 2.3385],\n",
      "                         u'AHP_slow_time': [0.1968, 0.0112],\n",
      "                         u'AP_height': [19.7207, 3.7204],\n",
      "                         u'AP_width': [3.5347, 0.8788],\n",
      "                         u'ISI_CV': [0.0737, 0.0292],\n",
      "                         u'adaptation_index2': [0.0055, 0.0015],\n",
      "                         u'doublet_ISI': [22.75, 4.14],\n",
      "                         u'mean_frequency': [17.5, 0.8],\n",
      "                         u'time_to_first_spike': [10.5, 1.36]}},\n",
      "  u'bAP': { u'dend1': { u'AP_amplitude_from_voltagebase': [45, 10]},\n",
      "            u'dend2': { u'AP_amplitude_from_voltagebase': [36, 9.33]},\n",
      "            u'soma': { u'AP_height': [25.0, 5.0],\n",
      "                       u'AP_width': [2.0, 0.5],\n",
      "                       u'Spikecount': [1.0, 0.01]}}}\n"
     ]
    }
   ],
   "source": [
    "feature_configs = json.load(open('config/features.json'))\n",
    "pp.pprint(feature_configs)"
   ]
  },
  {
   "cell_type": "code",
   "execution_count": 28,
   "metadata": {
    "collapsed": false
   },
   "outputs": [
    {
     "name": "stdout",
     "output_type": "stream",
     "text": [
      "objectives:\n",
      "  ( AP_height for {'': u'Step1.soma.v'} with stim start 700 and end 2700, exp mean 25.0141 and std 3.1463 and AP threshold override -20 )\n",
      "  ( AHP_slow_time for {'': u'Step1.soma.v'} with stim start 700 and end 2700, exp mean 0.1599 and std 0.0483 and AP threshold override -20 )\n",
      "  ( ISI_CV for {'': u'Step1.soma.v'} with stim start 700 and end 2700, exp mean 0.109 and std 0.1217 and AP threshold override -20 )\n",
      "  ( doublet_ISI for {'': u'Step1.soma.v'} with stim start 700 and end 2700, exp mean 62.75 and std 9.6667 and AP threshold override -20 )\n",
      "  ( AHP_depth_abs_slow for {'': u'Step1.soma.v'} with stim start 700 and end 2700, exp mean -61.1513 and std 2.3385 and AP threshold override -20 )\n",
      "  ( AP_width for {'': u'Step1.soma.v'} with stim start 700 and end 2700, exp mean 3.5312 and std 0.8592 and AP threshold override -20 )\n",
      "  ( time_to_first_spike for {'': u'Step1.soma.v'} with stim start 700 and end 2700, exp mean 27.25 and std 5.7222 and AP threshold override -20 )\n",
      "  ( AHP_depth_abs for {'': u'Step1.soma.v'} with stim start 700 and end 2700, exp mean -60.3636 and std 2.3018 and AP threshold override -20 )\n",
      "  ( adaptation_index2 for {'': u'Step1.soma.v'} with stim start 700 and end 2700, exp mean 0.0047 and std 0.0514 and AP threshold override -20 )\n",
      "  ( mean_frequency for {'': u'Step1.soma.v'} with stim start 700 and end 2700, exp mean 6 and std 1.2222 and AP threshold override -20 )\n",
      "  ( AP_height for {'': u'Step3.soma.v'} with stim start 700 and end 2700, exp mean 19.7207 and std 3.7204 and AP threshold override -20 )\n",
      "  ( AHP_slow_time for {'': u'Step3.soma.v'} with stim start 700 and end 2700, exp mean 0.1968 and std 0.0112 and AP threshold override -20 )\n",
      "  ( ISI_CV for {'': u'Step3.soma.v'} with stim start 700 and end 2700, exp mean 0.0737 and std 0.0292 and AP threshold override -20 )\n",
      "  ( doublet_ISI for {'': u'Step3.soma.v'} with stim start 700 and end 2700, exp mean 22.75 and std 4.14 and AP threshold override -20 )\n",
      "  ( AHP_depth_abs_slow for {'': u'Step3.soma.v'} with stim start 700 and end 2700, exp mean -61.1513 and std 2.3385 and AP threshold override -20 )\n",
      "  ( AP_width for {'': u'Step3.soma.v'} with stim start 700 and end 2700, exp mean 3.5347 and std 0.8788 and AP threshold override -20 )\n",
      "  ( time_to_first_spike for {'': u'Step3.soma.v'} with stim start 700 and end 2700, exp mean 10.5 and std 1.36 and AP threshold override -20 )\n",
      "  ( AHP_depth_abs for {'': u'Step3.soma.v'} with stim start 700 and end 2700, exp mean -57.0905 and std 2.3427 and AP threshold override -20 )\n",
      "  ( adaptation_index2 for {'': u'Step3.soma.v'} with stim start 700 and end 2700, exp mean 0.0055 and std 0.0015 and AP threshold override -20 )\n",
      "  ( mean_frequency for {'': u'Step3.soma.v'} with stim start 700 and end 2700, exp mean 17.5 and std 0.8 and AP threshold override -20 )\n",
      "  ( AP_height for {'': u'Step2.soma.v'} with stim start 700 and end 2700, exp mean 27.1003 and std 3.1463 and AP threshold override -20 )\n",
      "  ( AHP_slow_time for {'': u'Step2.soma.v'} with stim start 700 and end 2700, exp mean 0.1676 and std 0.0339 and AP threshold override -20 )\n",
      "  ( ISI_CV for {'': u'Step2.soma.v'} with stim start 700 and end 2700, exp mean 0.0674 and std 0.075 and AP threshold override -20 )\n",
      "  ( doublet_ISI for {'': u'Step2.soma.v'} with stim start 700 and end 2700, exp mean 44.0 and std 7.1327 and AP threshold override -20 )\n",
      "  ( AHP_depth_abs_slow for {'': u'Step2.soma.v'} with stim start 700 and end 2700, exp mean -60.2471 and std 1.8972 and AP threshold override -20 )\n",
      "  ( AP_width for {'': u'Step2.soma.v'} with stim start 700 and end 2700, exp mean 2.7917 and std 0.7499 and AP threshold override -20 )\n",
      "  ( time_to_first_spike for {'': u'Step2.soma.v'} with stim start 700 and end 2700, exp mean 19.75 and std 2.8776 and AP threshold override -20 )\n",
      "  ( AHP_depth_abs for {'': u'Step2.soma.v'} with stim start 700 and end 2700, exp mean -59.9055 and std 1.8329 and AP threshold override -20 )\n",
      "  ( adaptation_index2 for {'': u'Step2.soma.v'} with stim start 700 and end 2700, exp mean 0.005 and std 0.0067 and AP threshold override -20 )\n",
      "  ( mean_frequency for {'': u'Step2.soma.v'} with stim start 700 and end 2700, exp mean 8.5 and std 0.9796 and AP threshold override -20 )\n",
      "  ( AP_width for {'': u'bAP.soma.v'} with stim start 295 and end 600, exp mean 2.0 and std 0.5 and AP threshold override -20 )\n",
      "  ( AP_height for {'': u'bAP.soma.v'} with stim start 295 and end 600, exp mean 25.0 and std 5.0 and AP threshold override -20 )\n",
      "  ( Spikecount for {'': u'bAP.soma.v'} with stim start 295 and end 600, exp mean 1.0 and std 0.01 and AP threshold override -20 )\n",
      "  ( AP_amplitude_from_voltagebase for {'': u'bAP.dend1.v'} with stim start 295 and end 600, exp mean 45 and std 10 and AP threshold override -55 )\n",
      "  ( AP_amplitude_from_voltagebase for {'': u'bAP.dend2.v'} with stim start 295 and end 600, exp mean 36 and std 9.33 and AP threshold override -55 )\n"
     ]
    }
   ],
   "source": [
    "fitness_calculator = l5pc_evaluator.define_fitness_calculator(fitness_protocols)\n",
    "print(fitness_calculator)"
   ]
  },
  {
   "cell_type": "markdown",
   "metadata": {
    "collapsed": true
   },
   "source": [
    "## Simulator"
   ]
  },
  {
   "cell_type": "markdown",
   "metadata": {},
   "source": [
    "We need to define which simulator we will use. In this case it will be Neuron, i.e. the NrnSimulator class"
   ]
  },
  {
   "cell_type": "code",
   "execution_count": 29,
   "metadata": {
    "collapsed": false
   },
   "outputs": [],
   "source": [
    "sim = ephys.simulators.NrnSimulator()"
   ]
  },
  {
   "cell_type": "markdown",
   "metadata": {},
   "source": [
    "## Evaluator"
   ]
  },
  {
   "cell_type": "markdown",
   "metadata": {},
   "source": [
    "With all the components defined above we can build a cell evaluator"
   ]
  },
  {
   "cell_type": "code",
   "execution_count": 30,
   "metadata": {
    "collapsed": false
   },
   "outputs": [],
   "source": [
    "evaluator = ephys.evaluators.CellEvaluator(                                          \n",
    "        cell_model=l5pc_cell,                                                       \n",
    "        param_names=param_names,                                                    \n",
    "        fitness_protocols=fitness_protocols,                                        \n",
    "        fitness_calculator=fitness_calculator,                                      \n",
    "        sim=sim)  "
   ]
  },
  {
   "cell_type": "markdown",
   "metadata": {},
   "source": [
    "This evaluator can be used to run the protocols. The original parameter values for the Markram et al. 2015 L5PC model are:"
   ]
  },
  {
   "cell_type": "code",
   "execution_count": 31,
   "metadata": {
    "collapsed": true
   },
   "outputs": [],
   "source": [
    "release_params = {\n",
    "    'gamma_CaDynamics_E2.somatic': 0.000609,\n",
    "    'gSKv3_1bar_SKv3_1.somatic': 0.303472,\n",
    "    'gSK_E2bar_SK_E2.somatic': 0.008407,\n",
    "    'gCa_HVAbar_Ca_HVA.somatic': 0.000994,\n",
    "    'gNaTs2_tbar_NaTs2_t.somatic': 0.983955,\n",
    "    'decay_CaDynamics_E2.somatic': 210.485284,\n",
    "    'gCa_LVAstbar_Ca_LVAst.somatic': 0.000333\n",
    "}\n"
   ]
  },
  {
   "cell_type": "markdown",
   "metadata": {},
   "source": [
    "Running the responses is as easy as passing the protocols and parameters to the evaluator. (The line below will take some time to execute)"
   ]
  },
  {
   "cell_type": "code",
   "execution_count": 32,
   "metadata": {
    "collapsed": false
   },
   "outputs": [
    {
     "ename": "Exception",
     "evalue": "Traceback (most recent call last):\n  File \"/home/hbpschool2016/local/pythonenv/local/lib/python2.7/site-packages/bluepyopt/ephys/protocols.py\", line 127, in _run_func\n    cell_model.instantiate(sim=sim)\n  File \"/home/hbpschool2016/local/pythonenv/local/lib/python2.7/site-packages/bluepyopt/ephys/models.py\", line 222, in instantiate\n    param.instantiate(sim=sim, icell=self.icell)\n  File \"/home/hbpschool2016/local/pythonenv/local/lib/python2.7/site-packages/bluepyopt/ephys/parameters.py\", line 300, in instantiate\n    self.value_scale_func(self.value, seg, sim=sim))\nAttributeError: 'nrn.Segment' object has no attribute 'gNaTs2_tbar_NaTs2_t'\n",
     "output_type": "error",
     "traceback": [
      "\u001b[0;31m---------------------------------------------------------------------------\u001b[0m",
      "\u001b[0;31mException\u001b[0m                                 Traceback (most recent call last)",
      "\u001b[0;32m<ipython-input-32-9a94edfdc848>\u001b[0m in \u001b[0;36m<module>\u001b[0;34m()\u001b[0m\n\u001b[0;32m----> 1\u001b[0;31m \u001b[0mrelease_responses\u001b[0m \u001b[0;34m=\u001b[0m \u001b[0mevaluator\u001b[0m\u001b[0;34m.\u001b[0m\u001b[0mrun_protocols\u001b[0m\u001b[0;34m(\u001b[0m\u001b[0mprotocols\u001b[0m\u001b[0;34m=\u001b[0m\u001b[0mfitness_protocols\u001b[0m\u001b[0;34m.\u001b[0m\u001b[0mvalues\u001b[0m\u001b[0;34m(\u001b[0m\u001b[0;34m)\u001b[0m\u001b[0;34m,\u001b[0m \u001b[0mparam_values\u001b[0m\u001b[0;34m=\u001b[0m\u001b[0mrelease_params\u001b[0m\u001b[0;34m)\u001b[0m\u001b[0;34m\u001b[0m\u001b[0m\n\u001b[0m",
      "\u001b[0;32m/home/hbpschool2016/local/pythonenv/local/lib/python2.7/site-packages/bluepyopt/ephys/evaluators.pyc\u001b[0m in \u001b[0;36mrun_protocols\u001b[0;34m(self, protocols, param_values)\u001b[0m\n\u001b[1;32m    161\u001b[0m                 \u001b[0mprotocol\u001b[0m\u001b[0;34m,\u001b[0m\u001b[0;34m\u001b[0m\u001b[0m\n\u001b[1;32m    162\u001b[0m                 \u001b[0mparam_values\u001b[0m\u001b[0;34m=\u001b[0m\u001b[0mparam_values\u001b[0m\u001b[0;34m,\u001b[0m\u001b[0;34m\u001b[0m\u001b[0m\n\u001b[0;32m--> 163\u001b[0;31m                 isolate=self.isolate_protocols))\n\u001b[0m\u001b[1;32m    164\u001b[0m \u001b[0;34m\u001b[0m\u001b[0m\n\u001b[1;32m    165\u001b[0m         \u001b[0;32mreturn\u001b[0m \u001b[0mresponses\u001b[0m\u001b[0;34m\u001b[0m\u001b[0m\n",
      "\u001b[0;32m/home/hbpschool2016/local/pythonenv/local/lib/python2.7/site-packages/bluepyopt/ephys/evaluators.pyc\u001b[0m in \u001b[0;36mrun_protocol\u001b[0;34m(self, protocol, param_values, isolate, cell_model, sim)\u001b[0m\n\u001b[1;32m    150\u001b[0m             \u001b[0mparam_values\u001b[0m\u001b[0;34m,\u001b[0m\u001b[0;34m\u001b[0m\u001b[0m\n\u001b[1;32m    151\u001b[0m             \u001b[0msim\u001b[0m\u001b[0;34m=\u001b[0m\u001b[0msim\u001b[0m\u001b[0;34m,\u001b[0m\u001b[0;34m\u001b[0m\u001b[0m\n\u001b[0;32m--> 152\u001b[0;31m             isolate=isolate)\n\u001b[0m\u001b[1;32m    153\u001b[0m \u001b[0;34m\u001b[0m\u001b[0m\n\u001b[1;32m    154\u001b[0m     \u001b[0;32mdef\u001b[0m \u001b[0mrun_protocols\u001b[0m\u001b[0;34m(\u001b[0m\u001b[0mself\u001b[0m\u001b[0;34m,\u001b[0m \u001b[0mprotocols\u001b[0m\u001b[0;34m,\u001b[0m \u001b[0mparam_values\u001b[0m\u001b[0;34m)\u001b[0m\u001b[0;34m:\u001b[0m\u001b[0;34m\u001b[0m\u001b[0m\n",
      "\u001b[0;32m/home/hbpschool2016/local/pythonenv/local/lib/python2.7/site-packages/bluepyopt/ephys/protocols.pyc\u001b[0m in \u001b[0;36mrun\u001b[0;34m(self, cell_model, param_values, sim, isolate)\u001b[0m\n\u001b[1;32m    180\u001b[0m                     \u001b[0;34m'cell_model'\u001b[0m\u001b[0;34m:\u001b[0m \u001b[0mcell_model\u001b[0m\u001b[0;34m,\u001b[0m\u001b[0;34m\u001b[0m\u001b[0m\n\u001b[1;32m    181\u001b[0m                     \u001b[0;34m'param_values'\u001b[0m\u001b[0;34m:\u001b[0m \u001b[0mparam_values\u001b[0m\u001b[0;34m,\u001b[0m\u001b[0;34m\u001b[0m\u001b[0m\n\u001b[0;32m--> 182\u001b[0;31m                     'sim': sim})\n\u001b[0m\u001b[1;32m    183\u001b[0m \u001b[0;34m\u001b[0m\u001b[0m\n\u001b[1;32m    184\u001b[0m             \u001b[0mpool\u001b[0m\u001b[0;34m.\u001b[0m\u001b[0mterminate\u001b[0m\u001b[0;34m(\u001b[0m\u001b[0;34m)\u001b[0m\u001b[0;34m\u001b[0m\u001b[0m\n",
      "\u001b[0;32m/usr/lib/python2.7/multiprocessing/pool.pyc\u001b[0m in \u001b[0;36mapply\u001b[0;34m(self, func, args, kwds)\u001b[0m\n\u001b[1;32m    242\u001b[0m         '''\n\u001b[1;32m    243\u001b[0m         \u001b[0;32massert\u001b[0m \u001b[0mself\u001b[0m\u001b[0;34m.\u001b[0m\u001b[0m_state\u001b[0m \u001b[0;34m==\u001b[0m \u001b[0mRUN\u001b[0m\u001b[0;34m\u001b[0m\u001b[0m\n\u001b[0;32m--> 244\u001b[0;31m         \u001b[0;32mreturn\u001b[0m \u001b[0mself\u001b[0m\u001b[0;34m.\u001b[0m\u001b[0mapply_async\u001b[0m\u001b[0;34m(\u001b[0m\u001b[0mfunc\u001b[0m\u001b[0;34m,\u001b[0m \u001b[0margs\u001b[0m\u001b[0;34m,\u001b[0m \u001b[0mkwds\u001b[0m\u001b[0;34m)\u001b[0m\u001b[0;34m.\u001b[0m\u001b[0mget\u001b[0m\u001b[0;34m(\u001b[0m\u001b[0;34m)\u001b[0m\u001b[0;34m\u001b[0m\u001b[0m\n\u001b[0m\u001b[1;32m    245\u001b[0m \u001b[0;34m\u001b[0m\u001b[0m\n\u001b[1;32m    246\u001b[0m     \u001b[0;32mdef\u001b[0m \u001b[0mmap\u001b[0m\u001b[0;34m(\u001b[0m\u001b[0mself\u001b[0m\u001b[0;34m,\u001b[0m \u001b[0mfunc\u001b[0m\u001b[0;34m,\u001b[0m \u001b[0miterable\u001b[0m\u001b[0;34m,\u001b[0m \u001b[0mchunksize\u001b[0m\u001b[0;34m=\u001b[0m\u001b[0mNone\u001b[0m\u001b[0;34m)\u001b[0m\u001b[0;34m:\u001b[0m\u001b[0;34m\u001b[0m\u001b[0m\n",
      "\u001b[0;32m/usr/lib/python2.7/multiprocessing/pool.pyc\u001b[0m in \u001b[0;36mget\u001b[0;34m(self, timeout)\u001b[0m\n\u001b[1;32m    556\u001b[0m             \u001b[0;32mreturn\u001b[0m \u001b[0mself\u001b[0m\u001b[0;34m.\u001b[0m\u001b[0m_value\u001b[0m\u001b[0;34m\u001b[0m\u001b[0m\n\u001b[1;32m    557\u001b[0m         \u001b[0;32melse\u001b[0m\u001b[0;34m:\u001b[0m\u001b[0;34m\u001b[0m\u001b[0m\n\u001b[0;32m--> 558\u001b[0;31m             \u001b[0;32mraise\u001b[0m \u001b[0mself\u001b[0m\u001b[0;34m.\u001b[0m\u001b[0m_value\u001b[0m\u001b[0;34m\u001b[0m\u001b[0m\n\u001b[0m\u001b[1;32m    559\u001b[0m \u001b[0;34m\u001b[0m\u001b[0m\n\u001b[1;32m    560\u001b[0m     \u001b[0;32mdef\u001b[0m \u001b[0m_set\u001b[0m\u001b[0;34m(\u001b[0m\u001b[0mself\u001b[0m\u001b[0;34m,\u001b[0m \u001b[0mi\u001b[0m\u001b[0;34m,\u001b[0m \u001b[0mobj\u001b[0m\u001b[0;34m)\u001b[0m\u001b[0;34m:\u001b[0m\u001b[0;34m\u001b[0m\u001b[0m\n",
      "\u001b[0;31mException\u001b[0m: Traceback (most recent call last):\n  File \"/home/hbpschool2016/local/pythonenv/local/lib/python2.7/site-packages/bluepyopt/ephys/protocols.py\", line 127, in _run_func\n    cell_model.instantiate(sim=sim)\n  File \"/home/hbpschool2016/local/pythonenv/local/lib/python2.7/site-packages/bluepyopt/ephys/models.py\", line 222, in instantiate\n    param.instantiate(sim=sim, icell=self.icell)\n  File \"/home/hbpschool2016/local/pythonenv/local/lib/python2.7/site-packages/bluepyopt/ephys/parameters.py\", line 300, in instantiate\n    self.value_scale_func(self.value, seg, sim=sim))\nAttributeError: 'nrn.Segment' object has no attribute 'gNaTs2_tbar_NaTs2_t'\n"
     ]
    }
   ],
   "source": [
    "release_responses = evaluator.run_protocols(protocols=fitness_protocols.values(), param_values=release_params)"
   ]
  },
  {
   "cell_type": "markdown",
   "metadata": {},
   "source": [
    "We can now plot all the responses"
   ]
  },
  {
   "cell_type": "code",
   "execution_count": null,
   "metadata": {
    "collapsed": false,
    "scrolled": true
   },
   "outputs": [],
   "source": [
    "def plot_responses(responses):\n",
    "    fig, axes = plt.subplots(len(responses), figsize=(10,10))\n",
    "    for index, (resp_name, response) in enumerate(sorted(responses.items())):\n",
    "        axes[index].plot(response['time'], response['voltage'], label=resp_name)\n",
    "        axes[index].set_title(resp_name)\n",
    "    fig.tight_layout()\n",
    "    fig.show()\n",
    "plot_responses(release_responses)"
   ]
  },
  {
   "cell_type": "markdown",
   "metadata": {},
   "source": [
    "Running an optimisation of the parameters now has become very easy. \n",
    "Of course running the L5PC optimisation will require quite some computing resources. \n",
    "\n",
    "To show a proof-of-concept, we will only run 2 generations, with 2 offspring individuals per generations.\n",
    "If you want to run all full optimisation, you should run for 100 generations with an offspring size of 100 individuals. "
   ]
  },
  {
   "cell_type": "code",
   "execution_count": null,
   "metadata": {
    "collapsed": false
   },
   "outputs": [],
   "source": [
    "opt = bpopt.optimisations.DEAPOptimisation(evaluator=evaluator, offspring_size=10)\n",
    "\n",
    "final_pop, halloffame, log, hist = opt.run(max_ngen=10, cp_filename='checkpoints/checkpoint.pkl')\n",
    "\n",
    "'''\n",
    "import pickle\n",
    "\n",
    "cp = pickle.load(open('checkpoints/checkpoint.pkl'))\n",
    "\n",
    "final_pop = cp['generation']\n",
    "hist = cp['history']\n",
    "halloffame = cp['halloffame']\n",
    "log = cp['logbook']\n",
    "'''\n",
    "#create pickle file"
   ]
  },
  {
   "cell_type": "markdown",
   "metadata": {},
   "source": [
    "The first individual in the hall of fame will contain the best solution found."
   ]
  },
  {
   "cell_type": "code",
   "execution_count": null,
   "metadata": {
    "collapsed": false
   },
   "outputs": [],
   "source": [
    "print(halloffame[0])"
   ]
  },
  {
   "cell_type": "markdown",
   "metadata": {},
   "source": [
    "These are the raw parameter values. \n",
    "The evaluator object can convert this in a dictionary, so that we can see the parameter names corresponding to these values."
   ]
  },
  {
   "cell_type": "code",
   "execution_count": null,
   "metadata": {
    "collapsed": false
   },
   "outputs": [],
   "source": [
    "best_params = evaluator.param_dict(halloffame[0]) #take the best parameters\n",
    "print(pp.pprint(best_params))"
   ]
  },
  {
   "cell_type": "markdown",
   "metadata": {},
   "source": [
    "Then we can run the fitness protocols on the model with these parameter values"
   ]
  },
  {
   "cell_type": "code",
   "execution_count": null,
   "metadata": {
    "collapsed": false
   },
   "outputs": [],
   "source": [
    "best_responses = evaluator.run_protocols(protocols=fitness_protocols.values(), param_values=best_params)"
   ]
  },
  {
   "cell_type": "markdown",
   "metadata": {},
   "source": [
    "And then we can also plot these responses. \n",
    "\n",
    "When you ran the above optimisation with only 2 individuals and 2 generations, this 'best' model will of course be very low quality."
   ]
  },
  {
   "cell_type": "code",
   "execution_count": null,
   "metadata": {
    "collapsed": false
   },
   "outputs": [],
   "source": [
    "plot_responses(best_responses)"
   ]
  },
  {
   "cell_type": "markdown",
   "metadata": {},
   "source": [
    "Let's visualize the objectives of the optimisation. First we need to create a dictionary of the responses\n",
    "of the best individual, that is the NEURON simulation of the voltage trace for each protocol with the parameters that correspond to the best individual. Remember that an individual is just a set of our model's parameters."
   ]
  },
  {
   "cell_type": "code",
   "execution_count": null,
   "metadata": {
    "collapsed": false
   },
   "outputs": [],
   "source": [
    "fitness_protocols = evaluator.fitness_protocols\n",
    "\n",
    "responses = {}\n",
    "nrn = ephys.simulators.NrnSimulator()\n",
    "for protocol in fitness_protocols.values():\n",
    "    response = protocol.run(\n",
    "                            cell_model=opt.evaluator.cell_model,\n",
    "                            param_values=best_params,\n",
    "                            sim=nrn\n",
    "                            )\n",
    "    responses.update(response)\n",
    "\n",
    "responses\n",
    "#create dictionary with the responses"
   ]
  },
  {
   "cell_type": "markdown",
   "metadata": {},
   "source": [
    "Plot the objectives of the responses, that is the deviation (in standard deviations) of the features from the values in the input features.json file."
   ]
  },
  {
   "cell_type": "code",
   "execution_count": null,
   "metadata": {
    "collapsed": false
   },
   "outputs": [],
   "source": [
    "objectives = opt.evaluator.fitness_calculator.calculate_scores(responses)\n",
    "\n",
    "f, ax = plt.subplots()\n",
    "\n",
    "ytick_pos = [x + 0.5 for x in range(len(objectives.keys()))]\n",
    "ax.barh(ytick_pos,\n",
    "              objectives.values(),\n",
    "              height=0.5,\n",
    "              align='center',\n",
    "              color='#779ECB')\n",
    "\n",
    "ax.set_yticks(ytick_pos) \n",
    "ax.set_yticklabels(objectives.keys(), size='x-small') \n",
    "ax.set_ylim(-0.5, len(objectives.values()) + 0.5) \n",
    "ax.set_xlabel('Objective value (# std)') \n",
    "ax.set_ylabel('Objectives') \n",
    "\n",
    "plt.tight_layout()"
   ]
  },
  {
   "cell_type": "markdown",
   "metadata": {},
   "source": [
    "Let's now plot the traces for all the individuals in the hall of fame. In other words, for each parameter set = individual let's plot the respective trace.\n",
    "\n",
    "First we create a list for all the individuals, in a simimilar manner as above, but for all the individuals in the hall of fame this time."
   ]
  },
  {
   "cell_type": "code",
   "execution_count": null,
   "metadata": {
    "collapsed": false
   },
   "outputs": [],
   "source": [
    "hof_responses = []\n",
    "for best_ind in halloffame:\n",
    "    best_ind_dict = evaluator.param_dict(best_ind)\n",
    "    hof_responses.append(evaluator.run_protocols(evaluator.fitness_protocols.values(),\n",
    "                                             param_values=best_ind_dict))\n",
    "    \n",
    "#iterate on all the halloffame"
   ]
  },
  {
   "cell_type": "code",
   "execution_count": null,
   "metadata": {
    "collapsed": false
   },
   "outputs": [],
   "source": [
    "traces = sorted(hof_responses[0].keys()) #names of the traces\n",
    "\n",
    "traces"
   ]
  },
  {
   "cell_type": "markdown",
   "metadata": {},
   "source": [
    "Then we plot the traces with the best one in deep blue"
   ]
  },
  {
   "cell_type": "code",
   "execution_count": null,
   "metadata": {
    "collapsed": false
   },
   "outputs": [],
   "source": [
    "import numpy as np\n",
    "\n",
    "def plot_multiple_responses(responses, fig): #plot the responses\n",
    "    '''creates 6 subplots for step{1,2,3} and dAP traces, and plots all the responses on them'''\n",
    "\n",
    "    plot_count = len(traces)\n",
    "    \n",
    "    # one subplot for each trace\n",
    "    ax = [fig.add_subplot(plot_count, 1, i + 1) for i in range(plot_count)]\n",
    "\n",
    "    # to color the last one deep blue\n",
    "    overlay_count = len(responses)\n",
    "    \n",
    "    for index, trace in enumerate(traces):  \n",
    "        for n, response in enumerate(reversed(responses)): # worst to best individual\n",
    "            \n",
    "            color='lightblue' if n < overlay_count - 1 else 'blue'\n",
    "            \n",
    "            ax[index].plot(response[trace]['time'],\n",
    "                           response[trace]['voltage'],\n",
    "                           color=color,\n",
    "                           linewidth=1)\n",
    "\n",
    "        # formatting of the subplots\n",
    "        ax[index].set_xlabel('Time (ms)')\n",
    "        ax[index].set_ylabel('Voltage (mV)')\n",
    "        ax[index].text(0.01, 0.7, trace, transform=ax[index].transAxes, fontsize=10,\n",
    "        verticalalignment='top')\n",
    "        #ax[index].set_xlim(80, 200)\n",
    "            \n",
    "\n",
    "        \n",
    "f = plt.figure(figsize=(10,10))\n",
    "plot_multiple_responses(hof_responses, f)\n",
    "#Light blue lines : not spiking at all"
   ]
  },
  {
   "cell_type": "code",
   "execution_count": null,
   "metadata": {
    "collapsed": false
   },
   "outputs": [],
   "source": [
    "responses"
   ]
  },
  {
   "cell_type": "markdown",
   "metadata": {},
   "source": [
    "And finally the fitness function"
   ]
  },
  {
   "cell_type": "code",
   "execution_count": null,
   "metadata": {
    "collapsed": false
   },
   "outputs": [],
   "source": [
    "import numpy\n",
    "\n",
    "logs=log\n",
    "gen_numbers = log.select('gen')\n",
    "min_fitness = numpy.array(log.select('min'))\n",
    "max_fitness = log.select('max')\n",
    "mean_fitness = numpy.array(log.select('avg'))\n",
    "std_fitness = numpy.array(log.select('std'))\n",
    "\n",
    "fig, ax = plt.subplots(1, figsize=(10, 5), facecolor='white')\n",
    "\n",
    "std = std_fitness\n",
    "mean = mean_fitness\n",
    "minimum = min_fitness\n",
    "stdminus = mean - std                                                           \n",
    "stdplus = mean + std\n",
    "\n",
    "ax.plot(                                                                      \n",
    "    gen_numbers,                                                                \n",
    "    mean,                                                                       \n",
    "    color='black',                                                              \n",
    "    linewidth=2,                                                                \n",
    "    label='population average')                                                 \n",
    "\n",
    "ax.fill_between(                                                              \n",
    "    gen_numbers,                                                                \n",
    "    stdminus,                                                                   \n",
    "    stdplus,                                                                    \n",
    "    color='lightgray',                                                          \n",
    "    linewidth=2,                                                                \n",
    "    label=r'population standard deviation')                                     \n",
    "\n",
    "ax.plot(                                                                      \n",
    "    gen_numbers,                                                                \n",
    "    minimum,                                                                    \n",
    "    color='red',                                                                \n",
    "    linewidth=2,                                                                \n",
    "    label='population minimum')                                                 \n",
    "\n",
    "ax.set_xlim(min(gen_numbers) - 1, max(gen_numbers) + 1)                       \n",
    "ax.set_xlabel('Generation #')                                                 \n",
    "ax.set_ylabel('Sum of objectives')                                            \n",
    "ax.set_ylim([0, max(stdplus)])                                                \n",
    "ax.legend()                        \n",
    "\n",
    "\n",
    "fig.show()\n",
    "#Mean + standard deviation + red(the best one)"
   ]
  },
  {
   "cell_type": "code",
   "execution_count": null,
   "metadata": {
    "collapsed": true
   },
   "outputs": [],
   "source": []
  },
  {
   "cell_type": "code",
   "execution_count": null,
   "metadata": {
    "collapsed": true
   },
   "outputs": [],
   "source": []
  },
  {
   "cell_type": "code",
   "execution_count": null,
   "metadata": {
    "collapsed": true
   },
   "outputs": [],
   "source": []
  }
 ],
 "metadata": {
  "kernelspec": {
   "display_name": "Python 2",
   "language": "python",
   "name": "python2"
  },
  "language_info": {
   "codemirror_mode": {
    "name": "ipython",
    "version": 2
   },
   "file_extension": ".py",
   "mimetype": "text/x-python",
   "name": "python",
   "nbconvert_exporter": "python",
   "pygments_lexer": "ipython2",
   "version": "2.7.6"
  }
 },
 "nbformat": 4,
 "nbformat_minor": 0
}
