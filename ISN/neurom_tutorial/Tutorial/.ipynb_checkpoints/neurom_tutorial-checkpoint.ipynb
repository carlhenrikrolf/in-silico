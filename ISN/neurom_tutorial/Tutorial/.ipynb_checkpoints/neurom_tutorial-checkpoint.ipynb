{
 "cells": [
  {
   "cell_type": "markdown",
   "metadata": {},
   "source": [
    "<center><h1>NeuroM Tutorial</h1></center>\n"
   ]
  },
  {
   "cell_type": "code",
   "execution_count": 1,
   "metadata": {
    "collapsed": false
   },
   "outputs": [
    {
     "name": "stdout",
     "output_type": "stream",
     "text": [
      "/home/hbpschool2016/local/pythonenv/local/lib/python2.7/site-packages/pip/_vendor/requests/packages/urllib3/util/ssl_.py:318: SNIMissingWarning: An HTTPS request has been made, but the SNI (Subject Name Indication) extension to TLS is not available on this platform. This may cause the server to present an incorrect TLS certificate, which can cause validation failures. You can upgrade to a newer version of Python to solve this. For more information, see https://urllib3.readthedocs.io/en/latest/security.html#snimissingwarning.\n",
      "  SNIMissingWarning\n",
      "/home/hbpschool2016/local/pythonenv/local/lib/python2.7/site-packages/pip/_vendor/requests/packages/urllib3/util/ssl_.py:122: InsecurePlatformWarning: A true SSLContext object is not available. This prevents urllib3 from configuring SSL appropriately and may cause certain SSL connections to fail. You can upgrade to a newer version of Python to solve this. For more information, see https://urllib3.readthedocs.io/en/latest/security.html#insecureplatformwarning.\n",
      "  InsecurePlatformWarning\n",
      "Collecting neurom\n",
      "  Downloading neurom-1.4.1.tar.gz (56kB)\n",
      "\u001b[K    100% |████████████████████████████████| 61kB 399kB/s \n",
      "\u001b[?25hCollecting numpy>=1.8.0 (from neurom)\n",
      "  Downloading numpy-1.12.1-cp27-cp27mu-manylinux1_x86_64.whl (16.5MB)\n",
      "\u001b[K    100% |████████████████████████████████| 16.5MB 17kB/s \n",
      "\u001b[?25hCollecting scipy>=0.13.3 (from neurom)\n",
      "  Downloading scipy-0.19.0-cp27-cp27mu-manylinux1_x86_64.whl (45.0MB)\n",
      "\u001b[K    99% |████████████████████████████████| 45.0MB 1.7MB/s eta 0:00:01\u001b[31mException:\n",
      "Traceback (most recent call last):\n",
      "  File \"/home/hbpschool2016/local/pythonenv/local/lib/python2.7/site-packages/pip/basecommand.py\", line 215, in main\n",
      "    status = self.run(options, args)\n",
      "  File \"/home/hbpschool2016/local/pythonenv/local/lib/python2.7/site-packages/pip/commands/install.py\", line 324, in run\n",
      "    requirement_set.prepare_files(finder)\n",
      "  File \"/home/hbpschool2016/local/pythonenv/local/lib/python2.7/site-packages/pip/req/req_set.py\", line 380, in prepare_files\n",
      "    ignore_dependencies=self.ignore_dependencies))\n",
      "  File \"/home/hbpschool2016/local/pythonenv/local/lib/python2.7/site-packages/pip/req/req_set.py\", line 620, in _prepare_file\n",
      "    session=self.session, hashes=hashes)\n",
      "  File \"/home/hbpschool2016/local/pythonenv/local/lib/python2.7/site-packages/pip/download.py\", line 821, in unpack_url\n",
      "    hashes=hashes\n",
      "  File \"/home/hbpschool2016/local/pythonenv/local/lib/python2.7/site-packages/pip/download.py\", line 659, in unpack_http_url\n",
      "    hashes)\n",
      "  File \"/home/hbpschool2016/local/pythonenv/local/lib/python2.7/site-packages/pip/download.py\", line 882, in _download_http_url\n",
      "    _download_url(resp, link, content_file, hashes)\n",
      "  File \"/home/hbpschool2016/local/pythonenv/local/lib/python2.7/site-packages/pip/download.py\", line 603, in _download_url\n",
      "    hashes.check_against_chunks(downloaded_chunks)\n",
      "  File \"/home/hbpschool2016/local/pythonenv/local/lib/python2.7/site-packages/pip/utils/hashes.py\", line 46, in check_against_chunks\n",
      "    for chunk in chunks:\n",
      "  File \"/home/hbpschool2016/local/pythonenv/local/lib/python2.7/site-packages/pip/download.py\", line 571, in written_chunks\n",
      "    for chunk in chunks:\n",
      "  File \"/home/hbpschool2016/local/pythonenv/local/lib/python2.7/site-packages/pip/utils/ui.py\", line 139, in iter\n",
      "    for x in it:\n",
      "  File \"/home/hbpschool2016/local/pythonenv/local/lib/python2.7/site-packages/pip/download.py\", line 560, in resp_read\n",
      "    decode_content=False):\n",
      "  File \"/home/hbpschool2016/local/pythonenv/local/lib/python2.7/site-packages/pip/_vendor/requests/packages/urllib3/response.py\", line 357, in stream\n",
      "    data = self.read(amt=amt, decode_content=decode_content)\n",
      "  File \"/home/hbpschool2016/local/pythonenv/local/lib/python2.7/site-packages/pip/_vendor/requests/packages/urllib3/response.py\", line 314, in read\n",
      "    data = self._fp.read(amt)\n",
      "  File \"/home/hbpschool2016/local/pythonenv/local/lib/python2.7/site-packages/pip/_vendor/cachecontrol/filewrapper.py\", line 63, in read\n",
      "    self._close()\n",
      "  File \"/home/hbpschool2016/local/pythonenv/local/lib/python2.7/site-packages/pip/_vendor/cachecontrol/filewrapper.py\", line 50, in _close\n",
      "    self.__callback(self.__buf.getvalue())\n",
      "  File \"/home/hbpschool2016/local/pythonenv/local/lib/python2.7/site-packages/pip/_vendor/cachecontrol/controller.py\", line 275, in cache_response\n",
      "    self.serializer.dumps(request, response, body=body),\n",
      "  File \"/home/hbpschool2016/local/pythonenv/local/lib/python2.7/site-packages/pip/_vendor/cachecontrol/serialize.py\", line 87, in dumps\n",
      "    ).encode(\"utf8\"),\n",
      "MemoryError\u001b[0m\n",
      "/home/hbpschool2016/local/pythonenv/local/lib/python2.7/site-packages/pip/_vendor/requests/packages/urllib3/util/ssl_.py:122: InsecurePlatformWarning: A true SSLContext object is not available. This prevents urllib3 from configuring SSL appropriately and may cause certain SSL connections to fail. You can upgrade to a newer version of Python to solve this. For more information, see https://urllib3.readthedocs.io/en/latest/security.html#insecureplatformwarning.\n",
      "  InsecurePlatformWarning\n"
     ]
    }
   ],
   "source": [
    "%matplotlib inline\n",
    "# upgrade neurom\n",
    "!pip install --upgrade neurom # ! in order to write in the terminal\n",
    "\n",
    "import pylab as plt\n",
    "import neurom as nm"
   ]
  },
  {
   "cell_type": "markdown",
   "metadata": {
    "collapsed": true
   },
   "source": [
    "# 1. Load Morphologies & Internal Representation"
   ]
  },
  {
   "cell_type": "code",
   "execution_count": 2,
   "metadata": {
    "collapsed": false
   },
   "outputs": [
    {
     "name": "stdout",
     "output_type": "stream",
     "text": [
      "cell21.CNG\n"
     ]
    }
   ],
   "source": [
    "# compatible file formats: ascii, swc, hdf5\n",
    "path_to_neuron = '../morphologies/cell21.CNG.swc'\n",
    "\n",
    "neuron = nm.load_neuron(path_to_neuron)\n",
    "print neuron.name"
   ]
  },
  {
   "cell_type": "markdown",
   "metadata": {},
   "source": [
    "A morphology object consists of:\n",
    "* Soma\n",
    "* Neurites (basal dendrites, axon, apical dendrites)\n",
    "* Sections"
   ]
  },
  {
   "cell_type": "code",
   "execution_count": null,
   "metadata": {
    "collapsed": false
   },
   "outputs": [],
   "source": [
    "\n",
    "# A soma is represented as a set of points (x, y, z, radius)\n",
    "print \"Soma Points: \\n\", neuron.soma.points\n",
    "print \"Soma Center: \\n\", neuron.soma.center\n",
    "print \"Soma Radius: \\n\", neuron.soma.radius"
   ]
  },
  {
   "cell_type": "code",
   "execution_count": null,
   "metadata": {
    "collapsed": false
   },
   "outputs": [],
   "source": [
    "neurites = neuron.neurites\n",
    "\n",
    "# enumerate returns the number of the list item and the object itself\n",
    "# e.g. (1, neurite1), (2, neurite2), etc.\n",
    "for i, neurite in enumerate(neurites):\n",
    "    \n",
    "    # iter_sections is an iterator. It returns the values one by one every time it is called\n",
    "    # therefore by applying the list function we force to return all the values.\n",
    "    number_of_sections = len(list(neurite.iter_sections()))\n",
    "    \n",
    "    # points is a numpy array, where instead of len, shape is used\n",
    "    # first element is the number of points, second the number of coordinates and a radius (4)\n",
    "    number_of_points = neurite.points.shape[0]\n",
    "\n",
    "    # strings to use for printing (\\n = line change)\n",
    "    string_neurite = \"Neurite {0}:\\n\".format(i)\n",
    "    string_type    = \"Type: {0}\\n\".format(neurite.type)\n",
    "    string_n_secs  = \"Number of Sections: {0}\\n\".format(number_of_sections)\n",
    "    string_n_pnts  = \"Number of Points: {0}\\n\".format(number_of_points)\n",
    "    \n",
    "    # join concatenates strings in a list by linking them with the provided string (here a tab identation \\t)\n",
    "    print \"\\t\".join((string_neurite, string_type, string_n_secs, string_n_pnts))\n"
   ]
  },
  {
   "cell_type": "markdown",
   "metadata": {},
   "source": [
    "The morphology of each neurite is represented as a tree of sections.\n",
    "\n",
    "* A segment is the line that connects two points\n",
    "* A section is a set of points that form a piecewise linear curve (i.e. it's a set of connected segments).\n",
    "* A section starts from the root (start of the tree) or a branching point and ends at another branching point or at a termination of the tree\n",
    "\n"
   ]
  },
  {
   "cell_type": "code",
   "execution_count": null,
   "metadata": {
    "collapsed": false
   },
   "outputs": [],
   "source": [
    "# the first section of the tree\n",
    "root_section = neurite.root_node\n",
    "\n",
    "# root section means it's the first one from the soma -> No Parent\n",
    "print \"Root section parent: \\n\\t\", root_section.parent  \n",
    "print \"Root section children: \\n\\t\", root_section.children\n",
    "\n",
    "# to get all the sections, we have to traverse the tree\n",
    "# see tree traversal (Pre-Order): https://en.wikipedia.org/wiki/Tree_traversal\n",
    "sections = list(neurite.iter_sections())[:20]\n",
    "\n",
    "print \"\\n\",sections"
   ]
  },
  {
   "cell_type": "markdown",
   "metadata": {},
   "source": [
    "# 2. View your morphologies"
   ]
  },
  {
   "cell_type": "code",
   "execution_count": null,
   "metadata": {
    "collapsed": false
   },
   "outputs": [],
   "source": [
    "from neurom import viewer\n",
    "\n",
    "help(viewer.draw)"
   ]
  },
  {
   "cell_type": "code",
   "execution_count": null,
   "metadata": {
    "collapsed": false
   },
   "outputs": [],
   "source": [
    "# planes: 'xy', 'xz', 'yz'\n",
    "figure, axis = viewer.draw(neuron, mode='2d', plane='xy')\n",
    "\n",
    "# the axis handler is returend for further customization\n",
    "axis.set_title('My Favorite Neuron')\n",
    "axis.set_xlabel('micrometers (um)')\n",
    "axis.set_ylabel('micrometers (um)')"
   ]
  },
  {
   "cell_type": "code",
   "execution_count": null,
   "metadata": {
    "collapsed": false
   },
   "outputs": [],
   "source": [
    "viewer.draw(neuron.soma, plane='xy')"
   ]
  },
  {
   "cell_type": "markdown",
   "metadata": {},
   "source": [
    "And something for the adventurous.\n",
    "To work with subplots and create more complex plots, we need to use lower level plot functions that reside in the view module"
   ]
  },
  {
   "cell_type": "code",
   "execution_count": null,
   "metadata": {
    "collapsed": false
   },
   "outputs": [],
   "source": [
    "from neurom.view import view\n",
    "from neurom.view.common import update_plot_limits\n",
    "\n",
    "N = len(neurites)\n",
    "\n",
    "# create N subplots, one for each neurite\n",
    "f, axes = plt.subplots(1, N, figsize=(15, 3)) # figsize in inches (width, height)\n",
    "\n",
    "for i, neurite in enumerate(neurites):\n",
    "    current_axes = axes[i]\n",
    "    \n",
    "    # draw the neurite in the i-th subplot\n",
    "    # new_fig set to False will prevent the creation of a new figure\n",
    "    # every time the function is called. The one that we created above will be used instead\n",
    "    view.plot_tree(current_axes, neurite, plane='xy')\n",
    "    update_plot_limits(current_axes, white_space=10)\n",
    "    # remove the xy axes for a prettier result\n",
    "    current_axes.axis('off')\n",
    "\n",
    "    # remove the title for each subplot\n",
    "    current_axes.set_title('')\n",
    "\n",
    "# set a global title for the figure\n",
    "f.suptitle(neuron.name, fontsize=30)\n",
    "\n"
   ]
  },
  {
   "cell_type": "markdown",
   "metadata": {},
   "source": [
    "# 3. Extract basic morphometrics (features)"
   ]
  },
  {
   "cell_type": "markdown",
   "metadata": {},
   "source": [
    "There are two types of features, the neuron and neurite features.\n",
    "\n",
    "Neurite features can be extracted from a single neurite, a list of neurites or a neuron.\n",
    "\n",
    "Neuron features can only be extracted from a neuron, because some additional info is ussuale required (e.g. distance from soma).\n",
    "\n",
    "All features can be called through the neurom.get function"
   ]
  },
  {
   "cell_type": "code",
   "execution_count": null,
   "metadata": {
    "collapsed": false
   },
   "outputs": [],
   "source": [
    "help(nm.get)"
   ]
  },
  {
   "cell_type": "code",
   "execution_count": null,
   "metadata": {
    "collapsed": false,
    "scrolled": true
   },
   "outputs": [],
   "source": [
    "# extract section_lengths\n",
    "section_lengths_neuron = nm.get('section_lengths', neuron)\n",
    "print \"Section lengths: \\n\", section_lengths_neuron[:10]\n",
    "\n",
    "# Extract the local bifurcation angles\n",
    "local_bif_angles = nm.get('local_bifurcation_angles', neuron)\n",
    "print \"Section local bifurcation angles: \\n\", local_bif_angles[:10]"
   ]
  },
  {
   "cell_type": "code",
   "execution_count": null,
   "metadata": {
    "collapsed": false
   },
   "outputs": [],
   "source": [
    "try:\n",
    "    # this must err because no soma is available\n",
    "    nm.get('soma_radii', neuron.neurites)\n",
    "\n",
    "except AttributeError:\n",
    "    \n",
    "    print \"Soma was not found. Input object is wrong.\"\n"
   ]
  },
  {
   "cell_type": "markdown",
   "metadata": {},
   "source": [
    "## Select Neurite Types"
   ]
  },
  {
   "cell_type": "markdown",
   "metadata": {},
   "source": [
    "The previous examples treated all neurites in the same way. NeuroM allows you to extract morphometrics for a selected type of trees."
   ]
  },
  {
   "cell_type": "code",
   "execution_count": null,
   "metadata": {
    "collapsed": false
   },
   "outputs": [],
   "source": [
    "dir(nm.NeuriteType)"
   ]
  },
  {
   "cell_type": "code",
   "execution_count": null,
   "metadata": {
    "collapsed": false
   },
   "outputs": [],
   "source": [
    "# Extract the section lengths of axonal trees\n",
    "ax_section_lengths = nm.get('section_lengths', neuron, neurite_type=nm.NeuriteType.axon)\n",
    "\n",
    "# Extract the section lengths of basal dendrite trees\n",
    "ba_section_lengths = nm.get('section_lengths', neuron, neurite_type=nm.NeuriteType.basal_dendrite)\n",
    "\n",
    "# Extract the section lengths of apical dendrite trees\n",
    "ap_section_lengths = nm.get('section_lengths', neuron, neurite_type=nm.NeuriteType.apical_dendrite)\n",
    "\n",
    "print '\\naxonal ', ax_section_lengths\n",
    "print '\\nbasal  ', ba_section_lengths\n",
    "print '\\napical ', ap_section_lengths"
   ]
  },
  {
   "cell_type": "markdown",
   "metadata": {},
   "source": [
    "## Let's plot the morphometrics"
   ]
  },
  {
   "cell_type": "code",
   "execution_count": null,
   "metadata": {
    "collapsed": false
   },
   "outputs": [],
   "source": [
    "def histogram(values):\n",
    "    \"\"\"Generates a histogram in a new figure\"\"\"\n",
    "    \n",
    "    # create an image with one subplot\n",
    "    f, ax = plt.subplots(1,1, figsize=(5,5))\n",
    "    \n",
    "    # create a histogram with specified bins and normalized\n",
    "    ax.hist(values, bins=10, normed=True)\n",
    "    \n",
    "    ax.set_title(feature.replace('_', ' ')) # replace the underscores with spaces in the string\n",
    "    \n",
    "    ax.set_xlabel('units')\n",
    "    ax.set_ylabel('density')\n",
    "    \n",
    "    return f, ax\n",
    "\n",
    "def boxplot(data):\n",
    "    '''Generates a boxplot in a new figure'''\n",
    "\n",
    "    # create an image with one subplot\n",
    "    f, ax = plt.subplots(1,1, figsize=(5,5))\n",
    "\n",
    "    ax.boxplot(data) # plot boxplot\n",
    "    \n",
    "    ax.set_ylabel('values')\n",
    "\n",
    "    return f, ax\n",
    "\n",
    "feature =  'section_lengths'\n",
    "values = nm.get(feature, neuron)\n",
    "\n",
    "histogram(values)\n",
    "boxplot(values)"
   ]
  },
  {
   "cell_type": "markdown",
   "metadata": {},
   "source": [
    "# 4. Check Morphologies for errors"
   ]
  },
  {
   "cell_type": "code",
   "execution_count": null,
   "metadata": {
    "collapsed": false
   },
   "outputs": [],
   "source": [
    "\n",
    "# the structural checks concern the valid structure of a morphology\n",
    "# the neuron_checks are more specific to simulation\n",
    "# options set the tolerance parameters for the checks\n",
    "config = {\n",
    "    'checks': {\n",
    "        'structural_checks': [\n",
    "            'is_single_tree',\n",
    "            'has_valid_soma',\n",
    "            'has_soma_points',\n",
    "            'has_sequential_ids',\n",
    "            'has_increasing_ids',\n",
    "            'has_valid_neurites',\n",
    "            'no_missing_parents',\n",
    "            'has_all_finite_radius_neurites'\n",
    "        ],\n",
    "        'neuron_checks': [\n",
    "            'has_axon',\n",
    "            'has_basal_dendrite',\n",
    "            'has_apical_dendrite',\n",
    "            'has_no_jumps',\n",
    "            'has_no_fat_ends',\n",
    "            'has_nonzero_soma_radius',\n",
    "            'has_all_nonzero_neurite_radii',\n",
    "            'has_all_nonzero_section_lengths',\n",
    "            'has_all_nonzero_segment_lengths',\n",
    "        ]\n",
    "    },\n",
    "    'options': {\n",
    "        'has_nonzero_soma_radius': 0.0,\n",
    "        \"has_all_nonzero_neurite_radii\": 0.007,\n",
    "        \"has_all_nonzero_segment_lengths\": 0.01,\n",
    "        \"has_all_nonzero_section_lengths\": 0.01,\n",
    "    }\n",
    "}"
   ]
  },
  {
   "cell_type": "code",
   "execution_count": null,
   "metadata": {
    "collapsed": false,
    "scrolled": true
   },
   "outputs": [],
   "source": [
    "from neurom.check.runner import CheckRunner\n",
    "\n",
    "# create a CheckRunner object by providing the configuration dict\n",
    "check_runner = CheckRunner(config)\n",
    "\n",
    "# run on a directory or a morphology\n",
    "morphology_files = !ls ../morphologies/\n",
    "\n",
    "results = check_runner.run('../morphologies/' + morphology_files[0])\n",
    "\n",
    "for morph in results['files']:\n",
    "    \n",
    "    print \"Morphology: {} \\n\".format(morph)\n",
    "    \n",
    "    checks_dict = results['files'][morph]\n",
    "    \n",
    "    # empty strings for our results\n",
    "    passed = \"\"\n",
    "    failed = \"\"\n",
    "    \n",
    "    # iterate over dictionary's items\n",
    "    for check_name, status in checks_dict.items():\n",
    "        \n",
    "        # the string with the check's name and status\n",
    "        string = \"\\t{0: <50} : {1}\\n\".format(check_name, status)\n",
    "    \n",
    "        # separate passed from failed checks\n",
    "        if status is True:\n",
    "            \n",
    "            passed += string # concatenates to the current passed string\n",
    "            \n",
    "        else:\n",
    "            \n",
    "            failed += string # concatenats to the current failed string\n",
    "\n",
    "    print passed\n",
    "    print failed"
   ]
  },
  {
   "cell_type": "code",
   "execution_count": null,
   "metadata": {
    "collapsed": true
   },
   "outputs": [],
   "source": []
  },
  {
   "cell_type": "code",
   "execution_count": null,
   "metadata": {
    "collapsed": true
   },
   "outputs": [],
   "source": []
  }
 ],
 "metadata": {
  "kernelspec": {
   "display_name": "Python 2",
   "language": "python",
   "name": "python2"
  },
  "language_info": {
   "codemirror_mode": {
    "name": "ipython",
    "version": 2
   },
   "file_extension": ".py",
   "mimetype": "text/x-python",
   "name": "python",
   "nbconvert_exporter": "python",
   "pygments_lexer": "ipython2",
   "version": "2.7.6"
  }
 },
 "nbformat": 4,
 "nbformat_minor": 0
}
