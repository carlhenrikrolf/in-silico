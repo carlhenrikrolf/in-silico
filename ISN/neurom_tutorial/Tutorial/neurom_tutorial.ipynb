{
 "cells": [
  {
   "cell_type": "markdown",
   "metadata": {},
   "source": [
    "<center><h1>NeuroM Tutorial</h1></center>\n"
   ]
  },
  {
   "cell_type": "code",
   "execution_count": 1,
   "metadata": {
    "collapsed": false
   },
   "outputs": [
    {
     "name": "stdout",
     "output_type": "stream",
     "text": [
      "/home/hbpschool2016/local/pythonenv/local/lib/python2.7/site-packages/pip/_vendor/requests/packages/urllib3/util/ssl_.py:318: SNIMissingWarning: An HTTPS request has been made, but the SNI (Subject Name Indication) extension to TLS is not available on this platform. This may cause the server to present an incorrect TLS certificate, which can cause validation failures. You can upgrade to a newer version of Python to solve this. For more information, see https://urllib3.readthedocs.io/en/latest/security.html#snimissingwarning.\n",
      "  SNIMissingWarning\n",
      "/home/hbpschool2016/local/pythonenv/local/lib/python2.7/site-packages/pip/_vendor/requests/packages/urllib3/util/ssl_.py:122: InsecurePlatformWarning: A true SSLContext object is not available. This prevents urllib3 from configuring SSL appropriately and may cause certain SSL connections to fail. You can upgrade to a newer version of Python to solve this. For more information, see https://urllib3.readthedocs.io/en/latest/security.html#insecureplatformwarning.\n",
      "  InsecurePlatformWarning\n",
      "Collecting neurom\n",
      "  Using cached neurom-1.4.1.tar.gz\n",
      "Collecting numpy>=1.8.0 (from neurom)\n",
      "  Using cached numpy-1.12.1-cp27-cp27mu-manylinux1_x86_64.whl\n",
      "Collecting scipy>=0.13.3 (from neurom)\n",
      "  Downloading scipy-0.19.0-cp27-cp27mu-manylinux1_x86_64.whl (45.0MB)\n",
      "\u001b[K    100% |████████████████████████████████| 45.0MB 8.9kB/s \n",
      "\u001b[?25hRequirement already up-to-date: enum34>=1.0.4 in /home/hbpschool2016/local/pythonenv/lib/python2.7/site-packages (from neurom)\n",
      "Requirement already up-to-date: pyyaml>=3.10 in /home/hbpschool2016/local/pythonenv/lib/python2.7/site-packages (from neurom)\n",
      "Requirement already up-to-date: tqdm>=4.8.4 in /home/hbpschool2016/local/pythonenv/lib/python2.7/site-packages (from neurom)\n",
      "Requirement already up-to-date: matplotlib>=1.3.1 in /home/hbpschool2016/local/pythonenv/lib/python2.7/site-packages (from neurom)\n",
      "Collecting h5py>=2.2.1 (from neurom)\n",
      "  Downloading h5py-2.7.0-cp27-cp27mu-manylinux1_x86_64.whl (4.3MB)\n",
      "\u001b[K    100% |████████████████████████████████| 4.4MB 122kB/s \n",
      "\u001b[?25hRequirement already up-to-date: future>=0.16.0 in /home/hbpschool2016/local/pythonenv/lib/python2.7/site-packages (from neurom)\n",
      "Collecting pylru>=1.0 (from neurom)\n",
      "  Downloading pylru-1.0.9.tar.gz\n",
      "Requirement already up-to-date: subprocess32 in /home/hbpschool2016/local/pythonenv/lib/python2.7/site-packages (from matplotlib>=1.3.1->neurom)\n",
      "Requirement already up-to-date: cycler>=0.10 in /home/hbpschool2016/local/pythonenv/lib/python2.7/site-packages (from matplotlib>=1.3.1->neurom)\n",
      "Requirement already up-to-date: python-dateutil in /home/hbpschool2016/local/pythonenv/lib/python2.7/site-packages (from matplotlib>=1.3.1->neurom)\n",
      "Requirement already up-to-date: functools32 in /home/hbpschool2016/local/pythonenv/lib/python2.7/site-packages (from matplotlib>=1.3.1->neurom)\n",
      "Requirement already up-to-date: six>=1.10 in /home/hbpschool2016/local/pythonenv/lib/python2.7/site-packages (from matplotlib>=1.3.1->neurom)\n",
      "Requirement already up-to-date: pytz in /home/hbpschool2016/local/pythonenv/lib/python2.7/site-packages (from matplotlib>=1.3.1->neurom)\n",
      "Collecting pyparsing!=2.0.0,!=2.0.4,!=2.1.2,!=2.1.6,>=1.5.6 (from matplotlib>=1.3.1->neurom)\n",
      "  Downloading pyparsing-2.2.0-py2.py3-none-any.whl (56kB)\n",
      "\u001b[K    100% |████████████████████████████████| 61kB 1.4MB/s \n",
      "\u001b[?25hInstalling collected packages: numpy, scipy, h5py, pylru, neurom, pyparsing\n",
      "  Found existing installation: numpy 1.12.0\n",
      "    Uninstalling numpy-1.12.0:\n",
      "      Successfully uninstalled numpy-1.12.0\n",
      "  Found existing installation: scipy 0.18.1\n",
      "    Uninstalling scipy-0.18.1:\n",
      "      Successfully uninstalled scipy-0.18.1\n",
      "  Found existing installation: h5py 2.6.0\n",
      "    Uninstalling h5py-2.6.0:\n",
      "      Successfully uninstalled h5py-2.6.0\n",
      "  Running setup.py install for pylru ... \u001b[?25l-\b \b\\\b \b|\b \bdone\n",
      "\u001b[?25h  Found existing installation: neurom 1.2.1\n",
      "    Uninstalling neurom-1.2.1:\n",
      "      Successfully uninstalled neurom-1.2.1\n",
      "  Running setup.py install for neurom ... \u001b[?25l-\b \b\\\b \bdone\n",
      "\u001b[?25h  Found existing installation: pyparsing 2.1.10\n",
      "    Uninstalling pyparsing-2.1.10:\n",
      "      Successfully uninstalled pyparsing-2.1.10\n",
      "Successfully installed h5py-2.7.0 neurom-1.4.1 numpy-1.12.1 pylru-1.0.9 pyparsing-2.2.0 scipy-0.19.0\n"
     ]
    }
   ],
   "source": [
    "%matplotlib inline\n",
    "# upgrade neurom\n",
    "!pip install --upgrade neurom # ! in order to write in the terminal\n",
    "\n",
    "import pylab as plt\n",
    "import neurom as nm"
   ]
  },
  {
   "cell_type": "markdown",
   "metadata": {
    "collapsed": true
   },
   "source": [
    "# 1. Load Morphologies & Internal Representation"
   ]
  },
  {
   "cell_type": "code",
   "execution_count": 99,
   "metadata": {
    "collapsed": false
   },
   "outputs": [
    {
     "name": "stdout",
     "output_type": "stream",
     "text": [
      "OH141125_A0_idB\n"
     ]
    }
   ],
   "source": [
    "# compatible file formats: ascii, swc, hdf5\n",
    "path_to_neuron = '../Morphologies/Substantia Nigra dopaminergic neurons/OH141125_A0_idB.ASC'\n",
    "#OH141125_A0_idA_Contour_SNc_Rotated\n",
    "#OH141125_A0_idC\n",
    "#OH141125_A0_idB\n",
    "neuron = nm.load_neuron(path_to_neuron)\n",
    "print neuron.name"
   ]
  },
  {
   "cell_type": "markdown",
   "metadata": {},
   "source": [
    "A morphology object consists of:\n",
    "* Soma\n",
    "* Neurites (basal dendrites, axon, apical dendrites)\n",
    "* Sections"
   ]
  },
  {
   "cell_type": "code",
   "execution_count": 100,
   "metadata": {
    "collapsed": false
   },
   "outputs": [
    {
     "name": "stdout",
     "output_type": "stream",
     "text": [
      "Soma Points: \n",
      "[[ -7.73    5.59   -2.75    0.075]\n",
      " [ -8.43    4.51   -2.63    0.075]\n",
      " [ -9.36    3.08   -2.19    0.075]\n",
      " [ -9.85    1.71   -2.      0.075]\n",
      " [-10.14   -0.06   -2.25    0.075]\n",
      " [-10.32   -1.37   -1.5     0.075]\n",
      " [-10.95   -1.92   -1.56    0.075]\n",
      " [-10.94   -4.28   -1.75    0.075]\n",
      " [-10.74   -5.73   -2.06    0.075]\n",
      " [-10.59   -7.53   -2.06    0.075]\n",
      " [-10.03   -9.2    -2.06    0.075]\n",
      " [ -9.64   -9.99   -2.06    0.075]\n",
      " [ -8.87  -10.91   -2.06    0.075]\n",
      " [ -8.14  -11.22   -2.06    0.075]\n",
      " [ -6.44  -12.17   -2.06    0.075]\n",
      " [ -5.52  -12.21   -2.06    0.075]\n",
      " [ -3.78  -12.09   -2.19    0.075]\n",
      " [ -1.73  -11.58   -2.13    0.075]\n",
      " [  0.38  -10.72   -2.25    0.075]\n",
      " [  1.32   -9.93   -2.13    0.075]\n",
      " [  2.62   -8.72   -1.56    0.075]\n",
      " [  3.79   -7.26   -1.75    0.075]\n",
      " [  4.76   -5.56   -1.69    0.075]\n",
      " [  5.8    -4.17   -1.06    0.075]\n",
      " [  6.44   -2.95   -1.      0.075]\n",
      " [  6.98   -2.04   -1.      0.075]\n",
      " [  7.     -0.57   -0.56    0.075]\n",
      " [  7.3    -0.18   -0.56    0.075]\n",
      " [  8.1     0.37   -0.56    0.075]\n",
      " [  9.08    0.37   -0.56    0.075]\n",
      " [ 10.77    1.76   -0.5     0.075]\n",
      " [ 11.82    3.16   -0.5     0.075]\n",
      " [ 12.45    3.88    1.88    0.075]\n",
      " [ 12.56    4.65    2.      0.075]\n",
      " [ 12.64    5.84    2.44    0.075]\n",
      " [ 11.81    7.71    2.75    0.075]\n",
      " [ 11.23    8.57    4.38    0.075]\n",
      " [ 11.17    9.03    4.38    0.075]\n",
      " [ 10.27   10.71    4.5     0.075]\n",
      " [  9.36   11.56    4.88    0.075]\n",
      " [  7.72   12.22    4.69    0.075]\n",
      " [  5.75   12.56    4.31    0.075]\n",
      " [  3.75   12.64    3.44    0.075]\n",
      " [  2.92   12.33    3.44    0.075]\n",
      " [  2.39   11.74    3.38    0.075]\n",
      " [  2.23   11.42    3.19    0.075]\n",
      " [  2.14   10.24    3.5     0.075]\n",
      " [  1.51    9.36    3.38    0.075]\n",
      " [ -0.15    9.2     3.25    0.075]\n",
      " [ -1.52    9.34    2.13    0.075]\n",
      " [ -3.08    8.51    2.13    0.075]\n",
      " [ -5.23    7.38    2.13    0.075]]\n",
      "Soma Center: \n",
      "[ 0.82461538  0.90538462  0.25134615]\n",
      "Soma Radius: \n",
      "11.3905221501\n"
     ]
    }
   ],
   "source": [
    "\n",
    "# A soma is represented as a set of points (x, y, z, radius)\n",
    "print \"Soma Points: \\n\", neuron.soma.points\n",
    "print \"Soma Center: \\n\", neuron.soma.center\n",
    "print \"Soma Radius: \\n\", neuron.soma.radius"
   ]
  },
  {
   "cell_type": "code",
   "execution_count": 101,
   "metadata": {
    "collapsed": false
   },
   "outputs": [
    {
     "name": "stdout",
     "output_type": "stream",
     "text": [
      "Neurite 0:\n",
      "\tType: NeuriteType.basal_dendrite\n",
      "\tNumber of Sections: 5\n",
      "\tNumber of Points: 567\n",
      "\n",
      "Neurite 1:\n",
      "\tType: NeuriteType.basal_dendrite\n",
      "\tNumber of Sections: 7\n",
      "\tNumber of Points: 141\n",
      "\n",
      "Neurite 2:\n",
      "\tType: NeuriteType.basal_dendrite\n",
      "\tNumber of Sections: 7\n",
      "\tNumber of Points: 403\n",
      "\n",
      "Neurite 3:\n",
      "\tType: NeuriteType.basal_dendrite\n",
      "\tNumber of Sections: 5\n",
      "\tNumber of Points: 240\n",
      "\n",
      "Neurite 4:\n",
      "\tType: NeuriteType.basal_dendrite\n",
      "\tNumber of Sections: 3\n",
      "\tNumber of Points: 459\n",
      "\n",
      "Neurite 5:\n",
      "\tType: NeuriteType.basal_dendrite\n",
      "\tNumber of Sections: 24\n",
      "\tNumber of Points: 1283\n",
      "\n",
      "Neurite 6:\n",
      "\tType: NeuriteType.basal_dendrite\n",
      "\tNumber of Sections: 3\n",
      "\tNumber of Points: 591\n",
      "\n"
     ]
    }
   ],
   "source": [
    "neurites = neuron.neurites\n",
    "\n",
    "# enumerate returns the number of the list item and the object itself\n",
    "# e.g. (1, neurite1), (2, neurite2), etc.\n",
    "for i, neurite in enumerate(neurites):\n",
    "    \n",
    "    # iter_sections is an iterator. It returns the values one by one every time it is called\n",
    "    # therefore by applying the list function we force to return all the values.\n",
    "    number_of_sections = len(list(neurite.iter_sections()))\n",
    "    \n",
    "    # points is a numpy array, where instead of len, shape is used\n",
    "    # first element is the number of points, second the number of coordinates and a radius (4)\n",
    "    number_of_points = neurite.points.shape[0]\n",
    "\n",
    "    # strings to use for printing (\\n = line change)\n",
    "    string_neurite = \"Neurite {0}:\\n\".format(i)\n",
    "    string_type    = \"Type: {0}\\n\".format(neurite.type)\n",
    "    string_n_secs  = \"Number of Sections: {0}\\n\".format(number_of_sections)\n",
    "    string_n_pnts  = \"Number of Points: {0}\\n\".format(number_of_points)\n",
    "    \n",
    "    # join concatenates strings in a list by linking them with the provided string (here a tab identation \\t)\n",
    "    print \"\\t\".join((string_neurite, string_type, string_n_secs, string_n_pnts)) #join by putting a tab in front\n"
   ]
  },
  {
   "cell_type": "markdown",
   "metadata": {},
   "source": [
    "The morphology of each neurite is represented as a tree of sections.\n",
    "\n",
    "* A segment is the line that connects two points\n",
    "* A section is a set of points that form a piecewise linear curve (i.e. it's a set of connected segments).\n",
    "* A section starts from the root (start of the tree) or a branching point and ends at another branching point or at a termination of the tree\n",
    "\n"
   ]
  },
  {
   "cell_type": "code",
   "execution_count": 102,
   "metadata": {
    "collapsed": false
   },
   "outputs": [
    {
     "name": "stdout",
     "output_type": "stream",
     "text": [
      "Root section parent: \n",
      "\tNone\n",
      "Root section children: \n",
      "\t[<neurom.core._neuron.Section object at 0x7fc778cb5110>, <neurom.core._neuron.Section object at 0x7fc778f7c910>]\n",
      "\n",
      "[<neurom.core._neuron.Section object at 0x7fc778cb5150>, <neurom.core._neuron.Section object at 0x7fc778cb5110>, <neurom.core._neuron.Section object at 0x7fc778f7c910>]\n"
     ]
    }
   ],
   "source": [
    "# the first section of the tree\n",
    "root_section = neurite.root_node\n",
    "\n",
    "# root section means it's the first one from the soma -> No Parent\n",
    "print \"Root section parent: \\n\\t\", root_section.parent  \n",
    "print \"Root section children: \\n\\t\", root_section.children\n",
    "\n",
    "# to get all the sections, we have to traverse the tree\n",
    "# see tree traversal (Pre-Order): https://en.wikipedia.org/wiki/Tree_traversal\n",
    "sections = list(neurite.iter_sections())[:20] #traversal mouvement and register in the list\n",
    "\n",
    "print \"\\n\",sections"
   ]
  },
  {
   "cell_type": "markdown",
   "metadata": {},
   "source": [
    "# 2. View your morphologies"
   ]
  },
  {
   "cell_type": "code",
   "execution_count": 103,
   "metadata": {
    "collapsed": false
   },
   "outputs": [
    {
     "name": "stdout",
     "output_type": "stream",
     "text": [
      "Help on function draw in module neurom.viewer:\n",
      "\n",
      "draw(obj, mode='2d', **kwargs)\n",
      "    Draw a morphology object\n",
      "    \n",
      "    Parameters:\n",
      "        obj: morphology object to be drawn (neuron, tree, soma).\n",
      "        mode (Optional[str]): drawing mode ('2d', '3d', 'dendrogram'). Defaults to '2d'.\n",
      "        **kwargs: keyword arguments for underlying neurom.view.view functions.\n",
      "    \n",
      "    Raises:\n",
      "        InvalidDrawModeError if mode is not valid\n",
      "        NotDrawableError if obj is not drawable\n",
      "        NotDrawableError if obj type and mode combination is not drawable\n",
      "    \n",
      "    Examples:\n",
      "    \n",
      "        >>> nrn = ... # load a neuron\n",
      "        >>> fig, _ = viewer.draw(nrn)             # 2d plot\n",
      "        >>> fig.show()\n",
      "        >>> fig3d, _ = viewer.draw(nrn, mode='3d') # 3d plot\n",
      "        >>> fig3d.show()\n",
      "        >>> fig, _ = viewer.draw(nrn.neurites[0]) # 2d plot of neurite tree\n",
      "        >>> dend, _ = viewer.draw(nrn, mode='dendrogram')\n",
      "\n"
     ]
    }
   ],
   "source": [
    "from neurom import viewer\n",
    "\n",
    "help(viewer.draw) #options => for example: can see only the soma"
   ]
  },
  {
   "cell_type": "code",
   "execution_count": 116,
   "metadata": {
    "collapsed": false
   },
   "outputs": [
    {
     "data": {
      "text/plain": [
       "<matplotlib.text.Text at 0x7fc777aa74d0>"
      ]
     },
     "execution_count": 116,
     "metadata": {},
     "output_type": "execute_result"
    },
    {
     "data": {
      "image/png": "[encoded data removed]",
      "text/plain": [
       "<matplotlib.figure.Figure at 0x7fc777894550>"
      ]
     },
     "metadata": {},
     "output_type": "display_data"
    }
   ],
   "source": [
    "# planes: 'xy', 'xz', 'yz'\n",
    "figure, axis = viewer.draw(neuron, mode='3d') # plane='zy'\n",
    "\n",
    "# the axis handler is returend for further customization\n",
    "axis.set_title('My Favorite Neuron')\n",
    "axis.set_xlabel('micrometers (um)')\n",
    "axis.set_ylabel('micrometers (um)')"
   ]
  },
  {
   "cell_type": "code",
   "execution_count": 105,
   "metadata": {
    "collapsed": false
   },
   "outputs": [
    {
     "data": {
      "text/plain": [
       "(<matplotlib.figure.Figure at 0x7fc77a505250>,\n",
       " <matplotlib.axes._subplots.AxesSubplot at 0x7fc778486610>)"
      ]
     },
     "execution_count": 105,
     "metadata": {},
     "output_type": "execute_result"
    },
    {
     "data": {
      "image/png": "[encoded data removed]",
      "text/plain": [
       "<matplotlib.figure.Figure at 0x7fc77a505250>"
      ]
     },
     "metadata": {},
     "output_type": "display_data"
    }
   ],
   "source": [
    "viewer.draw(neuron.soma, plane='xy')"
   ]
  },
  {
   "cell_type": "markdown",
   "metadata": {},
   "source": [
    "And something for the adventurous.\n",
    "To work with subplots and create more complex plots, we need to use lower level plot functions that reside in the view module"
   ]
  },
  {
   "cell_type": "code",
   "execution_count": 106,
   "metadata": {
    "collapsed": false
   },
   "outputs": [
    {
     "data": {
      "text/plain": [
       "<matplotlib.text.Text at 0x7fc77845d8d0>"
      ]
     },
     "execution_count": 106,
     "metadata": {},
     "output_type": "execute_result"
    },
    {
     "data": {
      "image/png": "[encoded data removed]",
      "text/plain": [
       "<matplotlib.figure.Figure at 0x7fc7784a19d0>"
      ]
     },
     "metadata": {},
     "output_type": "display_data"
    }
   ],
   "source": [
    "from neurom.view import view\n",
    "from neurom.view.common import update_plot_limits\n",
    "\n",
    "N = len(neurites)\n",
    "\n",
    "# create N subplots, one for each neurite\n",
    "f, axes = plt.subplots(1, N, figsize=(15, 3)) # figsize in inches (width, height)\n",
    "\n",
    "for i, neurite in enumerate(neurites):\n",
    "    current_axes = axes[i]\n",
    "    \n",
    "    # draw the neurite in the i-th subplot\n",
    "    # new_fig set to False will prevent the creation of a new figure\n",
    "    # every time the function is called. The one that we created above will be used instead\n",
    "    view.plot_tree(current_axes, neurite, plane='xy')\n",
    "    update_plot_limits(current_axes, white_space=10)\n",
    "    # remove the xy axes for a prettier result\n",
    "    current_axes.axis('off')\n",
    "\n",
    "    # remove the title for each subplot\n",
    "    current_axes.set_title('')\n",
    "\n",
    "# set a global title for the figure\n",
    "f.suptitle(neuron.name, fontsize=30)\n",
    "\n"
   ]
  },
  {
   "cell_type": "markdown",
   "metadata": {},
   "source": [
    "# 3. Extract basic morphometrics (features)"
   ]
  },
  {
   "cell_type": "markdown",
   "metadata": {},
   "source": [
    "There are two types of features, the neuron and neurite features.\n",
    "\n",
    "Neurite features can be extracted from a single neurite, a list of neurites or a neuron.\n",
    "\n",
    "Neuron features can only be extracted from a neuron, because some additional info is ussuale required (e.g. distance from soma).\n",
    "\n",
    "All features can be called through the neurom.get function"
   ]
  },
  {
   "cell_type": "code",
   "execution_count": 107,
   "metadata": {
    "collapsed": false
   },
   "outputs": [
    {
     "name": "stdout",
     "output_type": "stream",
     "text": [
      "Help on function get in module neurom.fst:\n",
      "\n",
      "get(feature, obj, **kwargs)\n",
      "    Obtain a feature from a set of morphology objects\n",
      "    \n",
      "    Parameters:\n",
      "        feature(string): feature to extract\n",
      "        obj: a neuron, population or neurite tree\n",
      "        **kwargs: parameters to forward to underlying worker functions\n",
      "    \n",
      "    Returns:\n",
      "        features as a 1D or 2D numpy array.\n",
      "    \n",
      "        \n",
      "    Features:        \n",
      "        Neurite features (neurite, neuron, neuron population):\n",
      "            - local_bifurcation_angles:\n",
      "                Get a list of local bifurcation angles in a collection of neurites\n",
      "            - neurite_lengths:\n",
      "                Get the path length per neurite in a collection\n",
      "            - neurite_volume_density:\n",
      "                Get the volume density per neurite\n",
      "                \n",
      "                    The volume density is defined as the ratio of the neurite volume and\n",
      "                    the volume of the neurite's enclosung convex hull\n",
      "            - neurite_volumes:\n",
      "                Get the volume per neurite in a collection\n",
      "            - number_of_bifurcations:\n",
      "                number of bifurcation points in a collection of neurites\n",
      "            - number_of_forking_points:\n",
      "                number of forking points in a collection of neurites\n",
      "            - number_of_neurites:\n",
      "                Number of neurites in a collection of neurites\n",
      "            - number_of_sections:\n",
      "                Number of sections in a collection of neurites\n",
      "            - number_of_sections_per_neurite:\n",
      "                Get the number of sections per neurite in a collection of neurites\n",
      "            - number_of_segments:\n",
      "                Number of sections in a collection of neurites\n",
      "            - number_of_terminations:\n",
      "                number of leaves points in a collection of neurites\n",
      "            - partition:\n",
      "                Partition at bifurcation points of a collection of neurites\n",
      "            - partition_asymmetry:\n",
      "                Partition asymmetry at bifurcation points of a collection of neurites\n",
      "            - principal_direction_extents:\n",
      "                Principal direction extent of neurites in neurons\n",
      "            - remote_bifurcation_angles:\n",
      "                Get a list of remote bifurcation angles in a collection of neurites\n",
      "            - section_areas:\n",
      "                section areas in a collection of neurites\n",
      "            - section_bif_branch_orders:\n",
      "                Bifurcation section branch orders in a collection of neurites\n",
      "            - section_bif_lengths:\n",
      "                Bifurcation section lengths in a collection of neurites\n",
      "            - section_branch_orders:\n",
      "                section branch orders in a collection of neurites\n",
      "            - section_lengths:\n",
      "                section lengths in a collection of neurites\n",
      "            - section_path_distances:\n",
      "                Path lengths of a collection of neurites\n",
      "            - section_radial_distances:\n",
      "                Remote bifurcation angles in a collection of neurites\n",
      "            - section_term_branch_orders:\n",
      "                Termination section branch orders in a collection of neurites\n",
      "            - section_term_lengths:\n",
      "                Termination section lengths in a collection of neurites\n",
      "            - section_tortuosity:\n",
      "                section tortuosities in a collection of neurites\n",
      "            - section_volumes:\n",
      "                section volumes in a collection of neurites\n",
      "            - segment_lengths:\n",
      "                Lengths of the segments in a collection of neurites\n",
      "            - segment_meander_angles:\n",
      "                Inter-segment opening angles in a section\n",
      "            - segment_midpoints:\n",
      "                Return a list of segment mid-points in a collection of neurites\n",
      "            - segment_radial_distances:\n",
      "                Lengths of the segments in a collection of neurites\n",
      "            - segment_radii:\n",
      "                arithmetic mean of the radii of the points in segments in a collection of neurites\n",
      "            - segment_taper_rates:\n",
      "                taper rates of the segments in a collection of neurites\n",
      "                \n",
      "                    The taper rate is defined as the absolute radii differences divided by length of the section\n",
      "            - segment_volumes:\n",
      "                Volumes of the segments in a collection of neurites\n",
      "            - terminal_path_lengths_per_neurite:\n",
      "                Get the path lengths to each terminal point per neurite in a collection\n",
      "            - total_length:\n",
      "                Get the total length of all sections in the group of neurons or neurites\n",
      "            - total_length_per_neurite:\n",
      "                Get the path length per neurite in a collection\n",
      "        \n",
      "        Neuron features (neuron, neuron population):\n",
      "            - soma_radii:\n",
      "                 Get the radii of the somata of a population of neurons\n",
      "                \n",
      "                    Note:\n",
      "                        If a single neuron is passed, a single element list with the\n",
      "                        radius of its soma member is returned.\n",
      "            - soma_surface_areas:\n",
      "                Get the surface areas of the somata in a population of neurons\n",
      "                \n",
      "                    Note:\n",
      "                        The surface area is calculated by assuming the soma is spherical.\n",
      "                    Note:\n",
      "                        If a single neuron is passed, a single element list with the surface\n",
      "                        area of its soma member is returned.\n",
      "            - trunk_origin_azimuths:\n",
      "                Get a list of all the trunk origin azimuths of a neuron or population\n",
      "                \n",
      "                    The azimuth is defined as Angle between x-axis and the vector\n",
      "                    defined by (initial tree point - soma center) on the x-z plane.\n",
      "                \n",
      "                    The range of the azimuth angle [-pi, pi] radians\n",
      "            - trunk_origin_elevations:\n",
      "                Get a list of all the trunk origin elevations of a neuron or population\n",
      "                \n",
      "                    The elevation is defined as the angle between x-axis and the\n",
      "                    vector defined by (initial tree point - soma center)\n",
      "                    on the x-y half-plane.\n",
      "                \n",
      "                    The range of the elevation angle [-pi/2, pi/2] radians\n",
      "            - trunk_origin_radii:\n",
      "                radii of the trunk sections of neurites in a neuron\n",
      "            - trunk_section_lengths:\n",
      "                list of lengths of trunk sections of neurites in a neuron\n",
      "\n"
     ]
    }
   ],
   "source": [
    "help(nm.get)"
   ]
  },
  {
   "cell_type": "code",
   "execution_count": 108,
   "metadata": {
    "collapsed": false,
    "scrolled": true
   },
   "outputs": [
    {
     "name": "stdout",
     "output_type": "stream",
     "text": [
      "Section lengths: \n",
      "[  23.06206881  137.56866558   27.96141378   73.95892443  454.03288849\n",
      "   58.14366497    9.8047736    67.74098797   12.81388992    4.75540745]\n",
      "Section local bifurcation angles: \n",
      "[ 1.15340968  1.93595938  0.59208089  1.19680533  1.05488478  0.80926095\n",
      "  0.52879005  0.37842292  0.50203174  0.30036629]\n"
     ]
    }
   ],
   "source": [
    "# extract section_lengths\n",
    "section_lengths_neuron = nm.get('section_lengths', neuron)\n",
    "print \"Section lengths: \\n\", section_lengths_neuron[:10]\n",
    "\n",
    "# Extract the local bifurcation angles\n",
    "local_bif_angles = nm.get('local_bifurcation_angles', neuron)\n",
    "print \"Section local bifurcation angles: \\n\", local_bif_angles[:10]"
   ]
  },
  {
   "cell_type": "code",
   "execution_count": 109,
   "metadata": {
    "collapsed": false
   },
   "outputs": [
    {
     "name": "stdout",
     "output_type": "stream",
     "text": [
      "Soma was not found. Input object is wrong.\n"
     ]
    }
   ],
   "source": [
    "try:\n",
    "    # this must err because no soma is available\n",
    "    nm.get('soma_radii', neuron.neurites)\n",
    "\n",
    "except AttributeError:\n",
    "    \n",
    "    print \"Soma was not found. Input object is wrong.\"\n"
   ]
  },
  {
   "cell_type": "markdown",
   "metadata": {},
   "source": [
    "## Select Neurite Types"
   ]
  },
  {
   "cell_type": "markdown",
   "metadata": {},
   "source": [
    "The previous examples treated all neurites in the same way. NeuroM allows you to extract morphometrics for a selected type of trees."
   ]
  },
  {
   "cell_type": "code",
   "execution_count": 110,
   "metadata": {
    "collapsed": false
   },
   "outputs": [
    {
     "data": {
      "text/plain": [
       "['__class__',\n",
       " '__doc__',\n",
       " '__members__',\n",
       " '__module__',\n",
       " 'all',\n",
       " 'apical_dendrite',\n",
       " 'axon',\n",
       " 'basal_dendrite',\n",
       " 'soma',\n",
       " 'undefined']"
      ]
     },
     "execution_count": 110,
     "metadata": {},
     "output_type": "execute_result"
    }
   ],
   "source": [
    "dir(nm.NeuriteType)"
   ]
  },
  {
   "cell_type": "code",
   "execution_count": 111,
   "metadata": {
    "collapsed": false
   },
   "outputs": [
    {
     "name": "stdout",
     "output_type": "stream",
     "text": [
      "\n",
      "axonal  []\n",
      "\n",
      "basal   [  23.06206881  137.56866558   27.96141378   73.95892443  454.03288849\n",
      "   58.14366497    9.8047736    67.74098797   12.81388992    4.75540745\n",
      "    9.8106103    11.46251844   27.23817745   21.46937338  168.03223083\n",
      "  127.21296277   53.85256444   28.44599043   31.25800203   46.9126318\n",
      "   48.56517714   15.37494676   18.95028771   74.78267429   21.01373502\n",
      "  166.84089711  231.34922762   21.46295958  508.73353846    0.86683332\n",
      "    5.222992     61.24170599    7.08242448    3.37113184    8.58497862\n",
      "    7.54859941   13.89949525    8.97682001   14.80310588   58.16398318\n",
      "   52.58231967   12.10998204  355.98178939   37.92530459   39.07101227\n",
      "   53.21623825   31.46711679   31.80065825    6.03920206    4.6874542\n",
      "   23.99388158   38.06754806  172.54205162  259.7070512 ]\n",
      "\n",
      "apical  []\n"
     ]
    }
   ],
   "source": [
    "# Extract the section lengths of axonal trees\n",
    "ax_section_lengths = nm.get('section_lengths', neuron, neurite_type=nm.NeuriteType.axon)\n",
    "\n",
    "# Extract the section lengths of basal dendrite trees\n",
    "ba_section_lengths = nm.get('section_lengths', neuron, neurite_type=nm.NeuriteType.basal_dendrite)\n",
    "\n",
    "# Extract the section lengths of apical dendrite trees\n",
    "ap_section_lengths = nm.get('section_lengths', neuron, neurite_type=nm.NeuriteType.apical_dendrite)\n",
    "\n",
    "print '\\naxonal ', ax_section_lengths\n",
    "print '\\nbasal  ', ba_section_lengths\n",
    "print '\\napical ', ap_section_lengths"
   ]
  },
  {
   "cell_type": "markdown",
   "metadata": {},
   "source": [
    "## Let's plot the morphometrics"
   ]
  },
  {
   "cell_type": "code",
   "execution_count": 112,
   "metadata": {
    "collapsed": false
   },
   "outputs": [
    {
     "data": {
      "text/plain": [
       "(<matplotlib.figure.Figure at 0x7fc777dc6190>,\n",
       " <matplotlib.axes._subplots.AxesSubplot at 0x7fc777cded50>)"
      ]
     },
     "execution_count": 112,
     "metadata": {},
     "output_type": "execute_result"
    },
    {
     "data": {
      "image/png": "[encoded data removed]",
      "text/plain": [
       "<matplotlib.figure.Figure at 0x7fc7792e2d50>"
      ]
     },
     "metadata": {},
     "output_type": "display_data"
    },
    {
     "data": {
      "image/png": "[encoded data removed]",
      "text/plain": [
       "<matplotlib.figure.Figure at 0x7fc777dc6190>"
      ]
     },
     "metadata": {},
     "output_type": "display_data"
    }
   ],
   "source": [
    "def histogram(values):\n",
    "    \"\"\"Generates a histogram in a new figure\"\"\"\n",
    "    \n",
    "    # create an image with one subplot\n",
    "    f, ax = plt.subplots(1,1, figsize=(5,5))\n",
    "    \n",
    "    # create a histogram with specified bins and normalized\n",
    "    ax.hist(values, bins=10, normed=True)\n",
    "    \n",
    "    ax.set_title(feature.replace('_', ' ')) # replace the underscores with spaces in the string\n",
    "    \n",
    "    ax.set_xlabel('units')\n",
    "    ax.set_ylabel('density')\n",
    "    \n",
    "    return f, ax\n",
    "\n",
    "def boxplot(data):\n",
    "    '''Generates a boxplot in a new figure'''\n",
    "\n",
    "    # create an image with one subplot\n",
    "    f, ax = plt.subplots(1,1, figsize=(5,5))\n",
    "\n",
    "    ax.boxplot(data) # plot boxplot\n",
    "    \n",
    "    ax.set_ylabel('values')\n",
    "\n",
    "    return f, ax\n",
    "\n",
    "feature =  'section_lengths'\n",
    "values = nm.get(feature, neuron)\n",
    "\n",
    "histogram(values)\n",
    "boxplot(values)"
   ]
  },
  {
   "cell_type": "markdown",
   "metadata": {},
   "source": [
    "# 4. Check Morphologies for errors"
   ]
  },
  {
   "cell_type": "code",
   "execution_count": 113,
   "metadata": {
    "collapsed": false
   },
   "outputs": [],
   "source": [
    "\n",
    "# the structural checks concern the valid structure of a morphology\n",
    "# the neuron_checks are more specific to simulation\n",
    "# options set the tolerance parameters for the checks\n",
    "config = {\n",
    "    'checks': {\n",
    "        'structural_checks': [\n",
    "            'is_single_tree',\n",
    "            'has_valid_soma',\n",
    "            'has_soma_points',\n",
    "            'has_sequential_ids',\n",
    "            'has_increasing_ids',\n",
    "            'has_valid_neurites',\n",
    "            'no_missing_parents',\n",
    "            'has_all_finite_radius_neurites'\n",
    "        ],\n",
    "        'neuron_checks': [\n",
    "            'has_axon',\n",
    "            'has_basal_dendrite',\n",
    "            'has_apical_dendrite',\n",
    "            'has_no_jumps',\n",
    "            'has_no_fat_ends',\n",
    "            'has_nonzero_soma_radius',\n",
    "            'has_all_nonzero_neurite_radii',\n",
    "            'has_all_nonzero_section_lengths',\n",
    "            'has_all_nonzero_segment_lengths',\n",
    "        ]\n",
    "    },\n",
    "    'options': {\n",
    "        'has_nonzero_soma_radius': 0.0,\n",
    "        \"has_all_nonzero_neurite_radii\": 0.007,\n",
    "        \"has_all_nonzero_segment_lengths\": 0.01,\n",
    "        \"has_all_nonzero_section_lengths\": 0.01,\n",
    "    }\n",
    "}"
   ]
  },
  {
   "cell_type": "code",
   "execution_count": 114,
   "metadata": {
    "collapsed": false,
    "scrolled": true
   },
   "outputs": [
    {
     "name": "stdout",
     "output_type": "stream",
     "text": [
      "Morphology: ../morphologies/2004-01-12-A.CNG.swc \n",
      "\n",
      "\tIs single tree                                     : True\n",
      "\tHas valid soma                                     : True\n",
      "\tHas soma points                                    : True\n",
      "\tHas sequential ids                                 : True\n",
      "\tHas increasing ids                                 : True\n",
      "\tHas valid neurites                                 : True\n",
      "\tNo missing parents                                 : True\n",
      "\tHas all finite radius neurites                     : True\n",
      "\tHas axon                                           : True\n",
      "\tHas basal dendrite                                 : True\n",
      "\tHas no jumps                                       : True\n",
      "\tHas no fat ends                                    : True\n",
      "\tHas nonzero soma radius                            : True\n",
      "\tHas all nonzero neurite radii                      : True\n",
      "\tHas all nonzero section lengths                    : True\n",
      "\tHas all nonzero segment lengths                    : True\n",
      "\n",
      "\tHas apical dendrite                                : False\n",
      "\tALL                                                : False\n",
      "\n"
     ]
    }
   ],
   "source": [
    "from neurom.check.runner import CheckRunner\n",
    "\n",
    "# create a CheckRunner object by providing the configuration dict\n",
    "check_runner = CheckRunner(config)\n",
    "\n",
    "# run on a directory or a morphology\n",
    "morphology_files = !ls ../morphologies/\n",
    "\n",
    "results = check_runner.run('../morphologies/' + morphology_files[0])\n",
    "\n",
    "for morph in results['files']:\n",
    "    \n",
    "    print \"Morphology: {} \\n\".format(morph)\n",
    "    \n",
    "    checks_dict = results['files'][morph]\n",
    "    \n",
    "    # empty strings for our results\n",
    "    passed = \"\"\n",
    "    failed = \"\"\n",
    "    \n",
    "    # iterate over dictionary's items\n",
    "    for check_name, status in checks_dict.items():\n",
    "        \n",
    "        # the string with the check's name and status\n",
    "        string = \"\\t{0: <50} : {1}\\n\".format(check_name, status)\n",
    "    \n",
    "        # separate passed from failed checks\n",
    "        if status is True:\n",
    "            \n",
    "            passed += string # concatenates to the current passed string\n",
    "            \n",
    "        else:\n",
    "            \n",
    "            failed += string # concatenats to the current failed string\n",
    "\n",
    "    print passed\n",
    "    print failed"
   ]
  },
  {
   "cell_type": "code",
   "execution_count": null,
   "metadata": {
    "collapsed": true
   },
   "outputs": [],
   "source": []
  },
  {
   "cell_type": "code",
   "execution_count": null,
   "metadata": {
    "collapsed": true
   },
   "outputs": [],
   "source": []
  }
 ],
 "metadata": {
  "kernelspec": {
   "display_name": "Python 2",
   "language": "python",
   "name": "python2"
  },
  "language_info": {
   "codemirror_mode": {
    "name": "ipython",
    "version": 2
   },
   "file_extension": ".py",
   "mimetype": "text/x-python",
   "name": "python",
   "nbconvert_exporter": "python",
   "pygments_lexer": "ipython2",
   "version": "2.7.6"
  }
 },
 "nbformat": 4,
 "nbformat_minor": 0
}
